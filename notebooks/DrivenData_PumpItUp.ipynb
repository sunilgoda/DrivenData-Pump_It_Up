{
 "cells": [
  {
   "cell_type": "code",
   "execution_count": null,
   "metadata": {
    "ExecuteTime": {
     "end_time": "2018-12-07T09:43:49.426011Z",
     "start_time": "2018-12-07T09:43:20.582Z"
    }
   },
   "outputs": [],
   "source": [
    "%reset -f"
   ]
  },
  {
   "cell_type": "code",
   "execution_count": null,
   "metadata": {
    "ExecuteTime": {
     "end_time": "2018-12-07T09:43:49.428001Z",
     "start_time": "2018-12-07T09:43:20.590Z"
    }
   },
   "outputs": [],
   "source": [
    "import os\n",
    "import warnings\n",
    "import pickle as pkl\n",
    "from joblib import dump, load\n",
    "from time import time\n",
    "\n",
    "import matplotlib.pyplot as plt\n",
    "import numpy as np\n",
    "import pandas as pd\n",
    "import seaborn as sns\n",
    "from sklearn.linear_model import LogisticRegression,Lasso\n",
    "from sklearn.svm import LinearSVC\n",
    "from sklearn.naive_bayes import MultinomialNB,GaussianNB\n",
    "from sklearn.neighbors import KNeighborsClassifier\n",
    "from sklearn.ensemble import GradientBoostingClassifier, RandomForestClassifier\n",
    "from sklearn.metrics import *\n",
    "from sklearn.model_selection import (KFold, ParameterGrid, RandomizedSearchCV,\n",
    "                                     cross_val_score, train_test_split)\n",
    "from sklearn.preprocessing import Imputer, StandardScaler\n",
    "from xgboost import XGBClassifier\n",
    "\n",
    "%matplotlib inline\n",
    "warnings.filterwarnings('ignore')\n",
    "pd.options.display.float_format = '{:,.2f}'.format"
   ]
  },
  {
   "cell_type": "code",
   "execution_count": null,
   "metadata": {
    "ExecuteTime": {
     "end_time": "2018-12-07T09:43:49.429835Z",
     "start_time": "2018-12-07T09:43:20.597Z"
    }
   },
   "outputs": [],
   "source": [
    "os.chdir(\"/home/khushi/Desktop/DataScience/Datasets/DataDriven_PumpItUp/\")\n",
    "os.getcwd()"
   ]
  },
  {
   "cell_type": "code",
   "execution_count": null,
   "metadata": {
    "ExecuteTime": {
     "end_time": "2018-12-07T09:43:49.432192Z",
     "start_time": "2018-12-07T09:43:20.603Z"
    }
   },
   "outputs": [],
   "source": [
    "na_vals = [\"\", \"?\", \"-\", \"None\", \"NA\"]\n",
    "train_vals = pd.read_csv(\"TrainingSetValues.csv\", sep=\",\", na_values=na_vals)\n",
    "train_labels = pd.read_csv(\"TrainingSetLabels.csv\", sep=\",\", na_values=na_vals)\n",
    "\n",
    "test = pd.read_csv(\"TestSetValues.csv\", sep=\",\", na_values=na_vals)"
   ]
  },
  {
   "cell_type": "code",
   "execution_count": null,
   "metadata": {
    "ExecuteTime": {
     "end_time": "2018-12-07T09:43:49.433913Z",
     "start_time": "2018-12-07T09:43:20.611Z"
    }
   },
   "outputs": [],
   "source": [
    "test_id = test['id']"
   ]
  },
  {
   "cell_type": "code",
   "execution_count": null,
   "metadata": {
    "ExecuteTime": {
     "end_time": "2018-12-07T09:43:49.436279Z",
     "start_time": "2018-12-07T09:43:20.619Z"
    }
   },
   "outputs": [],
   "source": [
    "train_vals.head(3)"
   ]
  },
  {
   "cell_type": "code",
   "execution_count": null,
   "metadata": {
    "ExecuteTime": {
     "end_time": "2018-12-07T09:43:49.438167Z",
     "start_time": "2018-12-07T09:43:20.627Z"
    }
   },
   "outputs": [],
   "source": [
    "train_labels.head(3)"
   ]
  },
  {
   "cell_type": "code",
   "execution_count": null,
   "metadata": {
    "ExecuteTime": {
     "end_time": "2018-12-07T09:43:49.440315Z",
     "start_time": "2018-12-07T09:43:20.636Z"
    }
   },
   "outputs": [],
   "source": [
    "test.head(3)"
   ]
  },
  {
   "cell_type": "code",
   "execution_count": null,
   "metadata": {
    "ExecuteTime": {
     "end_time": "2018-12-07T09:43:49.442186Z",
     "start_time": "2018-12-07T09:43:20.645Z"
    }
   },
   "outputs": [],
   "source": [
    "train_vals.info()"
   ]
  },
  {
   "cell_type": "code",
   "execution_count": null,
   "metadata": {
    "ExecuteTime": {
     "end_time": "2018-12-07T09:43:49.443873Z",
     "start_time": "2018-12-07T09:43:20.651Z"
    }
   },
   "outputs": [],
   "source": [
    "train_labels.info()"
   ]
  },
  {
   "cell_type": "code",
   "execution_count": null,
   "metadata": {
    "ExecuteTime": {
     "end_time": "2018-12-07T09:43:49.445639Z",
     "start_time": "2018-12-07T09:43:20.660Z"
    }
   },
   "outputs": [],
   "source": [
    "train = pd.merge(train_vals,train_labels,left_on=\"id\",right_on=\"id\")"
   ]
  },
  {
   "cell_type": "code",
   "execution_count": null,
   "metadata": {
    "ExecuteTime": {
     "end_time": "2018-12-07T09:43:49.447336Z",
     "start_time": "2018-12-07T09:43:20.667Z"
    }
   },
   "outputs": [],
   "source": [
    "train.info()"
   ]
  },
  {
   "cell_type": "code",
   "execution_count": null,
   "metadata": {
    "ExecuteTime": {
     "end_time": "2018-12-07T09:43:49.449005Z",
     "start_time": "2018-12-07T09:43:20.674Z"
    }
   },
   "outputs": [],
   "source": [
    "del train_labels\n",
    "del train_vals"
   ]
  },
  {
   "cell_type": "code",
   "execution_count": null,
   "metadata": {
    "ExecuteTime": {
     "end_time": "2018-12-07T09:43:49.450844Z",
     "start_time": "2018-12-07T09:43:20.682Z"
    }
   },
   "outputs": [],
   "source": [
    "train.drop('id',axis=1,inplace=True)"
   ]
  },
  {
   "cell_type": "code",
   "execution_count": null,
   "metadata": {
    "ExecuteTime": {
     "end_time": "2018-12-07T09:43:49.452474Z",
     "start_time": "2018-12-07T09:43:20.690Z"
    }
   },
   "outputs": [],
   "source": [
    "def dropCols(data,cols,inplace_param = True):\n",
    "    existing_cols = data.columns.intersection(cols)\n",
    "    return data.drop(existing_cols,axis=1,inplace= inplace_param)"
   ]
  },
  {
   "cell_type": "code",
   "execution_count": null,
   "metadata": {
    "ExecuteTime": {
     "end_time": "2018-12-07T09:43:49.454142Z",
     "start_time": "2018-12-07T09:43:20.698Z"
    }
   },
   "outputs": [],
   "source": [
    "dropCols(train,['id'])\n",
    "dropCols(test,['id'])"
   ]
  },
  {
   "cell_type": "code",
   "execution_count": null,
   "metadata": {
    "ExecuteTime": {
     "end_time": "2018-12-07T09:43:49.455884Z",
     "start_time": "2018-12-07T09:43:20.705Z"
    }
   },
   "outputs": [],
   "source": [
    "train.columns"
   ]
  },
  {
   "cell_type": "code",
   "execution_count": null,
   "metadata": {
    "ExecuteTime": {
     "end_time": "2018-12-07T09:43:49.457433Z",
     "start_time": "2018-12-07T09:43:20.713Z"
    }
   },
   "outputs": [],
   "source": [
    "cat_var = train.dtypes[train.dtypes == 'object'].index\n",
    "cat_var = cat_var.union(['district_code','region_code','construction_year'])\n",
    "print(\"Categorical variables: %d\"%len(cat_var),\"\\n\",cat_var)"
   ]
  },
  {
   "cell_type": "code",
   "execution_count": null,
   "metadata": {
    "ExecuteTime": {
     "end_time": "2018-12-07T09:43:49.459652Z",
     "start_time": "2018-12-07T09:43:20.721Z"
    }
   },
   "outputs": [],
   "source": [
    "num_var = train.columns.difference(cat_var)\n",
    "print(\"Numerical variables:%d\"%len(num_var),\"\\n\",num_var)"
   ]
  },
  {
   "cell_type": "code",
   "execution_count": null,
   "metadata": {
    "ExecuteTime": {
     "end_time": "2018-12-07T09:43:49.462098Z",
     "start_time": "2018-12-07T09:43:20.729Z"
    }
   },
   "outputs": [],
   "source": [
    "train[cat_var] = train[cat_var].apply(lambda x: x.astype('category'))\n",
    "train.dtypes"
   ]
  },
  {
   "cell_type": "code",
   "execution_count": null,
   "metadata": {
    "ExecuteTime": {
     "end_time": "2018-12-07T09:43:49.463975Z",
     "start_time": "2018-12-07T09:43:20.736Z"
    }
   },
   "outputs": [],
   "source": [
    "#water_quality can be ordinal\n",
    "#construction_year, date_recorded datetime type"
   ]
  },
  {
   "cell_type": "markdown",
   "metadata": {},
   "source": [
    "### Exploratory Data Analysis"
   ]
  },
  {
   "cell_type": "code",
   "execution_count": null,
   "metadata": {
    "ExecuteTime": {
     "end_time": "2018-12-07T09:43:49.465669Z",
     "start_time": "2018-12-07T09:43:20.745Z"
    },
    "run_control": {
     "marked": false
    }
   },
   "outputs": [],
   "source": [
    "#train_bkp = train.copy(deep=True)\n",
    "#test_bkp = test.copy(deep=True)"
   ]
  },
  {
   "cell_type": "code",
   "execution_count": null,
   "metadata": {
    "ExecuteTime": {
     "end_time": "2018-12-07T09:43:49.467450Z",
     "start_time": "2018-12-07T09:43:20.754Z"
    }
   },
   "outputs": [],
   "source": [
    "train.describe(include='category').T.sort_values(by='unique',ascending=False)"
   ]
  },
  {
   "cell_type": "code",
   "execution_count": null,
   "metadata": {
    "ExecuteTime": {
     "end_time": "2018-12-07T09:43:49.470077Z",
     "start_time": "2018-12-07T09:43:20.762Z"
    }
   },
   "outputs": [],
   "source": [
    "np.unique(train[['extraction_type','extraction_type_group']].values)"
   ]
  },
  {
   "cell_type": "code",
   "execution_count": null,
   "metadata": {
    "ExecuteTime": {
     "end_time": "2018-12-07T09:43:49.472158Z",
     "start_time": "2018-12-07T09:43:20.770Z"
    }
   },
   "outputs": [],
   "source": [
    "pd.unique(train[['extraction_type','extraction_type_group']].values.ravel())"
   ]
  },
  {
   "cell_type": "code",
   "execution_count": null,
   "metadata": {
    "ExecuteTime": {
     "end_time": "2018-12-07T09:43:49.474344Z",
     "start_time": "2018-12-07T09:43:20.777Z"
    }
   },
   "outputs": [],
   "source": [
    "train.columns"
   ]
  },
  {
   "cell_type": "code",
   "execution_count": null,
   "metadata": {
    "ExecuteTime": {
     "end_time": "2018-12-07T09:43:49.476155Z",
     "start_time": "2018-12-07T09:43:20.785Z"
    }
   },
   "outputs": [],
   "source": [
    "train.groupby([\"status_group\"]).mean()"
   ]
  },
  {
   "cell_type": "code",
   "execution_count": null,
   "metadata": {
    "ExecuteTime": {
     "end_time": "2018-12-07T09:43:49.477989Z",
     "start_time": "2018-12-07T09:43:20.796Z"
    }
   },
   "outputs": [],
   "source": [
    "train.groupby([\"status_group\"]).agg(['min','max','mean','count'])"
   ]
  },
  {
   "cell_type": "code",
   "execution_count": null,
   "metadata": {
    "ExecuteTime": {
     "end_time": "2018-12-07T09:43:49.479778Z",
     "start_time": "2018-12-07T09:43:20.803Z"
    }
   },
   "outputs": [],
   "source": [
    "#same as above. kept just for reference of syntax\n",
    "#train.groupby([\"status_group\"])['amount_tsh','gps_height','num_private','population'].agg(['min','max','mean','count'])"
   ]
  },
  {
   "cell_type": "code",
   "execution_count": null,
   "metadata": {
    "ExecuteTime": {
     "end_time": "2018-12-07T09:43:49.481464Z",
     "start_time": "2018-12-07T09:43:20.811Z"
    }
   },
   "outputs": [],
   "source": [
    "pd.pivot_table(data=train,index='status_group',columns=['source'],values=['amount_tsh'])"
   ]
  },
  {
   "cell_type": "markdown",
   "metadata": {},
   "source": [
    "#### dams,river,shallowwell,spring which have more water are functional \n",
    "#### handdtw,machinedbh,unknown source have more water but most of them need to be repaired\n",
    "#### lakes have more water but are not functional "
   ]
  },
  {
   "cell_type": "code",
   "execution_count": null,
   "metadata": {
    "ExecuteTime": {
     "end_time": "2018-12-07T09:43:49.483130Z",
     "start_time": "2018-12-07T09:43:20.819Z"
    }
   },
   "outputs": [],
   "source": [
    "pd.pivot_table(data=train,index='status_group',columns=['source'],values=['population'],aggfunc=np.sum)"
   ]
  },
  {
   "cell_type": "markdown",
   "metadata": {},
   "source": [
    "#### dams,machine dbh,rainwater harvesting, river,shallow well,spring which have more population are functional \n",
    "#### lake,unknown sources which  have more population are non-functional"
   ]
  },
  {
   "cell_type": "markdown",
   "metadata": {},
   "source": [
    "### Preprocessing"
   ]
  },
  {
   "cell_type": "code",
   "execution_count": null,
   "metadata": {
    "ExecuteTime": {
     "end_time": "2018-12-07T09:43:49.484801Z",
     "start_time": "2018-12-07T09:43:20.832Z"
    }
   },
   "outputs": [],
   "source": [
    "rand_num = 3423"
   ]
  },
  {
   "cell_type": "code",
   "execution_count": null,
   "metadata": {
    "ExecuteTime": {
     "end_time": "2018-12-07T09:43:49.486390Z",
     "start_time": "2018-12-07T09:43:20.840Z"
    }
   },
   "outputs": [],
   "source": [
    "target_var = 'status_group'\n",
    "y = train[target_var]\n",
    "X = train.drop(target_var, axis=1)"
   ]
  },
  {
   "cell_type": "code",
   "execution_count": null,
   "metadata": {
    "ExecuteTime": {
     "end_time": "2018-12-07T09:43:49.487790Z",
     "start_time": "2018-12-07T09:43:20.849Z"
    }
   },
   "outputs": [],
   "source": [
    "X_train, X_test, y_train, y_test = train_test_split(\n",
    "    X, y, test_size=0.3, random_state=rand_num)"
   ]
  },
  {
   "cell_type": "code",
   "execution_count": null,
   "metadata": {
    "ExecuteTime": {
     "end_time": "2018-12-07T09:43:49.489338Z",
     "start_time": "2018-12-07T09:43:20.856Z"
    }
   },
   "outputs": [],
   "source": [
    "del train\n",
    "del X\n",
    "del y"
   ]
  },
  {
   "cell_type": "code",
   "execution_count": null,
   "metadata": {
    "ExecuteTime": {
     "end_time": "2018-12-07T09:43:49.490844Z",
     "start_time": "2018-12-07T09:43:20.864Z"
    }
   },
   "outputs": [],
   "source": [
    "print(X_train.shape)\n",
    "print(X_test.shape)"
   ]
  },
  {
   "cell_type": "code",
   "execution_count": null,
   "metadata": {
    "ExecuteTime": {
     "end_time": "2018-12-07T09:43:49.492376Z",
     "start_time": "2018-12-07T09:43:20.872Z"
    }
   },
   "outputs": [],
   "source": [
    "cols_to_drop = ['longitude','latitude','recorded_by','scheme_name','ward',\n",
    "                'subvillage','wpt_name','date_recorded','funder','installer',\n",
    "                'lga','construction_year','region_code','district_code',\n",
    "               'management','scheme_management','extraction_type',\n",
    "                'extraction_type_group','region',\n",
    "               'quantity_group','source_type','source_class','payment_type',\n",
    "               'quantity_group','waterpoint_type','water_quality']\n",
    "\n",
    "dropCols(X_train,cols_to_drop)\n",
    "dropCols(X_test,cols_to_drop)\n",
    "dropCols(test,cols_to_drop)"
   ]
  },
  {
   "cell_type": "code",
   "execution_count": null,
   "metadata": {
    "ExecuteTime": {
     "end_time": "2018-12-07T09:43:49.494127Z",
     "start_time": "2018-12-07T09:43:20.879Z"
    }
   },
   "outputs": [],
   "source": [
    "print(X_train.describe().T)\n",
    "print(X_train.describe(include=['category']).T)"
   ]
  },
  {
   "cell_type": "code",
   "execution_count": null,
   "metadata": {
    "ExecuteTime": {
     "end_time": "2018-12-07T09:43:49.495642Z",
     "start_time": "2018-12-07T09:43:20.886Z"
    }
   },
   "outputs": [],
   "source": [
    "X_train['source'].dtype"
   ]
  },
  {
   "cell_type": "code",
   "execution_count": null,
   "metadata": {
    "ExecuteTime": {
     "end_time": "2018-12-07T09:43:49.497322Z",
     "start_time": "2018-12-07T09:43:20.893Z"
    }
   },
   "outputs": [],
   "source": [
    "X_train['source'] = X_train['source'].str.replace('unknown','other')\n",
    "X_test['source'] = X_test['source'].str.replace('unknown','other')\n",
    "test['source'] = test['source'].str.replace('unknown','other')\n",
    "print(X_train.source.unique())\n"
   ]
  },
  {
   "cell_type": "code",
   "execution_count": null,
   "metadata": {
    "ExecuteTime": {
     "end_time": "2018-12-07T09:43:49.498898Z",
     "start_time": "2018-12-07T09:43:20.901Z"
    }
   },
   "outputs": [],
   "source": [
    "X_train['management_group'] = X_train['management_group'].str.replace('unknown','other')\n",
    "X_test['management_group'] = X_test['management_group'].str.replace('unknown','other')\n",
    "test['management_group'] = test['management_group'].str.replace('unknown','other')\n",
    "print(X_train.management_group.unique())"
   ]
  },
  {
   "cell_type": "code",
   "execution_count": null,
   "metadata": {
    "ExecuteTime": {
     "end_time": "2018-12-07T09:43:49.500472Z",
     "start_time": "2018-12-07T09:43:20.908Z"
    }
   },
   "outputs": [],
   "source": [
    "X_train['payment'] = X_train['payment'].str.replace('unknown','other')\n",
    "X_test['payment'] = X_test['payment'].str.replace('unknown','other')\n",
    "test['payment'] = test['payment'].str.replace('unknown','other')\n",
    "print(X_train.payment.unique())"
   ]
  },
  {
   "cell_type": "code",
   "execution_count": null,
   "metadata": {
    "ExecuteTime": {
     "end_time": "2018-12-07T09:43:49.502020Z",
     "start_time": "2018-12-07T09:43:20.918Z"
    }
   },
   "outputs": [],
   "source": [
    "new_cat_var = X_train.dtypes[X_train.dtypes == 'object'].index\n",
    "print(new_cat_var)\n",
    "print(X_train.info())"
   ]
  },
  {
   "cell_type": "code",
   "execution_count": null,
   "metadata": {
    "ExecuteTime": {
     "end_time": "2018-12-07T09:43:49.503574Z",
     "start_time": "2018-12-07T09:43:20.926Z"
    }
   },
   "outputs": [],
   "source": [
    "X_train[new_cat_var] = X_train[new_cat_var].apply(lambda x: x.astype('category'))\n",
    "X_test[new_cat_var] = X_test[new_cat_var].apply(lambda x: x.astype('category'))\n",
    "test[new_cat_var] = test[new_cat_var].apply(lambda x: x.astype('category'))"
   ]
  },
  {
   "cell_type": "markdown",
   "metadata": {},
   "source": [
    "#### Imputation"
   ]
  },
  {
   "cell_type": "code",
   "execution_count": null,
   "metadata": {
    "ExecuteTime": {
     "end_time": "2018-12-07T09:43:49.505084Z",
     "start_time": "2018-12-07T09:43:20.934Z"
    }
   },
   "outputs": [],
   "source": [
    "X_train[['public_meeting','permit']].info()"
   ]
  },
  {
   "cell_type": "code",
   "execution_count": null,
   "metadata": {
    "ExecuteTime": {
     "end_time": "2018-12-07T09:43:49.506933Z",
     "start_time": "2018-12-07T09:43:20.942Z"
    }
   },
   "outputs": [],
   "source": [
    "X_train['public_meeting'].fillna(X_train['public_meeting'].value_counts().index[0],inplace=True)\n",
    "X_test['public_meeting'].fillna(X_test['public_meeting'].value_counts().index[0],inplace=True)\n",
    "test['public_meeting'].fillna(test['public_meeting'].value_counts().index[0],inplace=True)"
   ]
  },
  {
   "cell_type": "code",
   "execution_count": null,
   "metadata": {
    "ExecuteTime": {
     "end_time": "2018-12-07T09:43:49.508623Z",
     "start_time": "2018-12-07T09:43:20.951Z"
    }
   },
   "outputs": [],
   "source": [
    "X_train['permit'].fillna(X_train['permit'].value_counts().index[0],inplace=True)\n",
    "X_test['permit'].fillna(X_test['permit'].value_counts().index[0],inplace=True)\n",
    "test['permit'].fillna(test['permit'].value_counts().index[0],inplace=True)\n",
    "print(X_train.isna().sum())"
   ]
  },
  {
   "cell_type": "markdown",
   "metadata": {},
   "source": [
    "#### Standardize the numerical variables"
   ]
  },
  {
   "cell_type": "code",
   "execution_count": null,
   "metadata": {
    "ExecuteTime": {
     "end_time": "2018-12-07T09:43:49.510419Z",
     "start_time": "2018-12-07T09:43:20.959Z"
    }
   },
   "outputs": [],
   "source": [
    "new_num_var = X_train.dtypes[X_train.dtypes != 'category'].index\n",
    "new_cat_var = X_train.dtypes[X_train.dtypes == 'category'].index"
   ]
  },
  {
   "cell_type": "code",
   "execution_count": null,
   "metadata": {
    "ExecuteTime": {
     "end_time": "2018-12-07T09:43:49.512177Z",
     "start_time": "2018-12-07T09:43:20.966Z"
    }
   },
   "outputs": [],
   "source": [
    "print(X_train[new_num_var].info())"
   ]
  },
  {
   "cell_type": "code",
   "execution_count": null,
   "metadata": {
    "ExecuteTime": {
     "end_time": "2018-12-07T09:43:49.513850Z",
     "start_time": "2018-12-07T09:43:20.974Z"
    }
   },
   "outputs": [],
   "source": [
    "scaler = StandardScaler()\n",
    "X_train[new_num_var] = scaler.fit_transform(X_train[new_num_var])\n",
    "X_test[new_num_var] = scaler.transform(X_test[new_num_var])\n",
    "test[new_num_var] = scaler.transform(test[new_num_var])\n",
    "print(X_train[new_num_var].describe())"
   ]
  },
  {
   "cell_type": "markdown",
   "metadata": {},
   "source": [
    "#### Dummy code Categorical variables"
   ]
  },
  {
   "cell_type": "code",
   "execution_count": null,
   "metadata": {
    "ExecuteTime": {
     "end_time": "2018-12-07T09:43:49.515713Z",
     "start_time": "2018-12-07T09:43:20.981Z"
    }
   },
   "outputs": [],
   "source": [
    "#X_train = pd.get_dummies(X_train,drop_first=True,prefix='d',prefix_sep='_')\n",
    "X_train = pd.get_dummies(X_train,drop_first=True)\n",
    "X_test = pd.get_dummies(X_test,drop_first=True)\n",
    "test = pd.get_dummies(test,drop_first=True)"
   ]
  },
  {
   "cell_type": "code",
   "execution_count": null,
   "metadata": {
    "ExecuteTime": {
     "end_time": "2018-12-07T09:43:49.517424Z",
     "start_time": "2018-12-07T09:43:20.989Z"
    }
   },
   "outputs": [],
   "source": [
    "X_train.info()"
   ]
  },
  {
   "cell_type": "markdown",
   "metadata": {},
   "source": [
    "#### Build Models"
   ]
  },
  {
   "cell_type": "code",
   "execution_count": null,
   "metadata": {
    "ExecuteTime": {
     "end_time": "2018-12-07T09:43:49.519085Z",
     "start_time": "2018-12-07T09:43:20.996Z"
    }
   },
   "outputs": [],
   "source": [
    "metric = 'accuracy'\n",
    "models = []\n",
    "model_names = []\n",
    "scores = []\n",
    "train_preds = None\n",
    "val_preds = None"
   ]
  },
  {
   "cell_type": "code",
   "execution_count": null,
   "metadata": {
    "ExecuteTime": {
     "end_time": "2018-12-07T09:43:49.520800Z",
     "start_time": "2018-12-07T09:43:21.005Z"
    }
   },
   "outputs": [],
   "source": [
    "#main method to fit a model,do predictions and print metrics\n",
    "def predictModelMetrics(model,model_name):\n",
    "    train_preds,val_preds = resetVar()\n",
    "    train_preds,val_preds = doPredict(model,model_name)\n",
    "    printMetrics(model,train_preds,val_preds)\n",
    "\n",
    "#reset prediction variables before running next model\n",
    "def resetVar():\n",
    "    train_preds = None\n",
    "    val_preds = None\n",
    "    return train_preds,val_preds\n",
    "\n",
    "#make predictions\n",
    "def doPredict(model,model_name):\n",
    "    model.fit(X_train,y_train)\n",
    "    train_preds = model.predict(X_train)\n",
    "    val_preds = model.predict(X_test)\n",
    "    models.append(model_name)\n",
    "    return train_preds,val_preds\n",
    "\n",
    "#prints and captures metrics\n",
    "def printMetrics(model,train_preds,val_preds):\n",
    "    print(\"Train Accuracy: %.2f\"%accuracy_score(y_train,train_preds))\n",
    "    \n",
    "    #k-fold with k=5\n",
    "    val_scores = cross_val_score(model,X_test,y_test, cv=5, scoring=metric)\n",
    "    cv_score = val_scores.mean()\n",
    "    print(\"Cross Validation Accuracy: %.2f\" %cv_score)\n",
    "    \n",
    "    print(\"-------------------------------------\")\n",
    "    print(\"Confusion Matrix:\")\n",
    "    print(pd.crosstab(y_test,val_preds,rownames=['Actual'],colnames=['Predicted'],margins=True))\n",
    "    #print(classification_report(y_val,val_preds))\n",
    "    scores.append(round(cv_score,2))\n",
    "    \n",
    "    #print summary of model accuracies\n",
    "def summarizeResults():\n",
    "    results = pd.DataFrame({\"Model\":models, \"Score\":scores})\n",
    "    print(results)\n",
    "    \n",
    "def loadModel(model_name):\n",
    "    try:\n",
    "        model = load(model_name + \".joblib\")\n",
    "        return model\n",
    "    except:\n",
    "        return None\n",
    "    \n",
    "def saveModel(model,model_name):\n",
    "    dump(model,modelName + \".joblib\")"
   ]
  },
  {
   "cell_type": "code",
   "execution_count": null,
   "metadata": {
    "ExecuteTime": {
     "end_time": "2018-12-07T09:43:49.522573Z",
     "start_time": "2018-12-07T09:43:21.012Z"
    }
   },
   "outputs": [],
   "source": [
    "modelName = \"LogisticRegression\"\n",
    "lr = LogisticRegression(multi_class='ovr')\n",
    "predictModelMetrics(lr,modelName)"
   ]
  },
  {
   "cell_type": "code",
   "execution_count": null,
   "metadata": {
    "ExecuteTime": {
     "end_time": "2018-12-07T09:43:49.524445Z",
     "start_time": "2018-12-07T09:43:21.019Z"
    }
   },
   "outputs": [],
   "source": [
    "modelName = \"LinearSVC\"\n",
    "svc = LinearSVC(C=0.01)\n",
    "predictModelMetrics(svc,modelName)"
   ]
  },
  {
   "cell_type": "code",
   "execution_count": 1017,
   "metadata": {
    "ExecuteTime": {
     "end_time": "2018-12-07T12:12:40.321903Z",
     "start_time": "2018-12-07T11:52:56.103035Z"
    }
   },
   "outputs": [],
   "source": [
    "acc_scores = []\n",
    "rng = range(2,20)\n",
    "for i in rng:\n",
    "    knn = KNeighborsClassifier(i)\n",
    "    knn.fit(X_train,y_train)\n",
    "    t_preds = knn.predict(X_train)\n",
    "    acc_scores.append(accuracy_score(y_train,t_preds))"
   ]
  },
  {
   "cell_type": "code",
   "execution_count": 1021,
   "metadata": {
    "ExecuteTime": {
     "end_time": "2018-12-07T15:44:13.035424Z",
     "start_time": "2018-12-07T15:44:12.848658Z"
    }
   },
   "outputs": [
    {
     "data": {
      "image/png": "[encoded data removed]",
      "text/plain": [
       "<Figure size 864x432 with 1 Axes>"
      ]
     },
     "metadata": {},
     "output_type": "display_data"
    }
   ],
   "source": [
    "plt.figure(figsize=(12,6))\n",
    "plt.plot(rng,acc_scores,marker=\"o\")\n",
    "plt.xlabel(\"N\")\n",
    "plt.ylabel(\"Accuracy Score\")\n",
    "plt.suptitle(\"N vs Accuracy Score\")\n",
    "plt.show()"
   ]
  },
  {
   "cell_type": "code",
   "execution_count": 993,
   "metadata": {
    "ExecuteTime": {
     "end_time": "2018-12-07T08:26:48.980647Z",
     "start_time": "2018-12-07T08:25:40.954611Z"
    }
   },
   "outputs": [
    {
     "name": "stdout",
     "output_type": "stream",
     "text": [
      "Train Accuracy: 0.83\n",
      "Cross Validation Accuracy: 0.71\n",
      "-------------------------------------\n",
      "Confusion Matrix:\n",
      "Predicted                functional  functional needs repair  non functional  \\\n",
      "Actual                                                                         \n",
      "functional                     8693                      322             650   \n",
      "functional needs repair         894                      281             133   \n",
      "non functional                 2444                      270            4133   \n",
      "All                           12031                      873            4916   \n",
      "\n",
      "Predicted                  All  \n",
      "Actual                          \n",
      "functional                9665  \n",
      "functional needs repair   1308  \n",
      "non functional            6847  \n",
      "All                      17820  \n"
     ]
    }
   ],
   "source": [
    "modelName = \"KNN5\"\n",
    "knn = KNeighborsClassifier(n_neighbors=2)\n",
    "predictModelMetrics(knn,modelName)"
   ]
  },
  {
   "cell_type": "code",
   "execution_count": 966,
   "metadata": {
    "ExecuteTime": {
     "end_time": "2018-12-07T07:03:06.677076Z",
     "start_time": "2018-12-07T07:03:06.291179Z"
    }
   },
   "outputs": [],
   "source": [
    "modelName = \"RandomForestClassifier\"\n",
    "rfc = loadModel(modelName)\n",
    "if(rfc == None):\n",
    "    rfc = RandomForestClassifier(n_estimators=500,max_depth=15,random_state=rand_num)\n",
    "    predictModelMetrics(rfc,modelName)\n",
    "    saveModel(rfc,modelName)"
   ]
  },
  {
   "cell_type": "code",
   "execution_count": 968,
   "metadata": {
    "ExecuteTime": {
     "end_time": "2018-12-07T07:13:14.168196Z",
     "start_time": "2018-12-07T07:05:39.599376Z"
    }
   },
   "outputs": [
    {
     "name": "stdout",
     "output_type": "stream",
     "text": [
      "Train Accuracy: 0.79\n",
      "Cross Validation Accuracy: 0.75\n",
      "-------------------------------------\n",
      "Confusion Matrix:\n",
      "Predicted                functional  functional needs repair  non functional  \\\n",
      "Actual                                                                         \n",
      "functional                     9017                       90             558   \n",
      "functional needs repair         954                      195             159   \n",
      "non functional                 2411                       61            4375   \n",
      "All                           12382                      346            5092   \n",
      "\n",
      "Predicted                  All  \n",
      "Actual                          \n",
      "functional                9665  \n",
      "functional needs repair   1308  \n",
      "non functional            6847  \n",
      "All                      17820  \n"
     ]
    }
   ],
   "source": [
    "modelName = \"XGBoost_Classifier\"\n",
    "xgbc = loadModel(modelName)\n",
    "if(xgbc == None):\n",
    "    xgbc = XGBClassifier(max_depth=10,learning_rate= 0.01,n_estimators= 300,random_state=rand_num)\n",
    "    predictModelMetrics(xgbc,modelName)\n",
    "    saveModel(xgbc,modelName)"
   ]
  },
  {
   "cell_type": "code",
   "execution_count": 969,
   "metadata": {
    "ExecuteTime": {
     "end_time": "2018-12-07T07:20:06.653494Z",
     "start_time": "2018-12-07T07:20:04.815889Z"
    }
   },
   "outputs": [],
   "source": [
    "test_preds = rfc.predict(test)"
   ]
  },
  {
   "cell_type": "code",
   "execution_count": 890,
   "metadata": {
    "ExecuteTime": {
     "end_time": "2018-12-06T12:15:41.063173Z",
     "start_time": "2018-12-06T12:15:41.057063Z"
    }
   },
   "outputs": [],
   "source": [
    "result = pd.DataFrame({'id':test_id,'status_group':test_preds})"
   ]
  },
  {
   "cell_type": "code",
   "execution_count": 892,
   "metadata": {
    "ExecuteTime": {
     "end_time": "2018-12-06T12:18:34.347284Z",
     "start_time": "2018-12-06T12:18:34.276582Z"
    }
   },
   "outputs": [],
   "source": [
    "result.to_csv(\"Submission.csv\",index=False)"
   ]
  }
 ],
 "metadata": {
  "kernelspec": {
   "display_name": "Python 3",
   "language": "python",
   "name": "python3"
  },
  "language_info": {
   "codemirror_mode": {
    "name": "ipython",
    "version": 3
   },
   "file_extension": ".py",
   "mimetype": "text/x-python",
   "name": "python",
   "nbconvert_exporter": "python",
   "pygments_lexer": "ipython3",
   "version": "3.6.4"
  },
  "varInspector": {
   "cols": {
    "lenName": 16,
    "lenType": 16,
    "lenVar": 40
   },
   "kernels_config": {
    "python": {
     "delete_cmd_postfix": "",
     "delete_cmd_prefix": "del ",
     "library": "var_list.py",
     "varRefreshCmd": "print(var_dic_list())"
    },
    "r": {
     "delete_cmd_postfix": ") ",
     "delete_cmd_prefix": "rm(",
     "library": "var_list.r",
     "varRefreshCmd": "cat(var_dic_list()) "
    }
   },
   "position": {
    "height": "144px",
    "left": "1003px",
    "right": "20px",
    "top": "117px",
    "width": "350px"
   },
   "types_to_exclude": [
    "module",
    "function",
    "builtin_function_or_method",
    "instance",
    "_Feature"
   ],
   "window_display": false
  }
 },
 "nbformat": 4,
 "nbformat_minor": 2
}
