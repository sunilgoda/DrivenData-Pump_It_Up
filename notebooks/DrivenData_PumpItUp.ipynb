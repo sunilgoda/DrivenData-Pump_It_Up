{
 "cells": [
  {
   "cell_type": "code",
   "execution_count": 1,
   "metadata": {
    "ExecuteTime": {
     "end_time": "2018-12-13T10:23:44.152725Z",
     "start_time": "2018-12-13T10:23:44.087211Z"
    }
   },
   "outputs": [],
   "source": [
    "%reset -f"
   ]
  },
  {
   "cell_type": "code",
   "execution_count": 2,
   "metadata": {
    "ExecuteTime": {
     "end_time": "2018-12-13T10:23:46.482301Z",
     "start_time": "2018-12-13T10:23:45.693762Z"
    }
   },
   "outputs": [],
   "source": [
    "import os\n",
    "import warnings\n",
    "import pickle as pkl\n",
    "from joblib import dump, load\n",
    "from time import time\n",
    "\n",
    "import matplotlib.pyplot as plt\n",
    "import numpy as np\n",
    "import pandas as pd\n",
    "import seaborn as sns\n",
    "from sklearn.linear_model import LogisticRegression,Lasso\n",
    "from sklearn.svm import LinearSVC\n",
    "from sklearn.naive_bayes import MultinomialNB,GaussianNB\n",
    "from sklearn.neighbors import KNeighborsClassifier\n",
    "from sklearn.ensemble import GradientBoostingClassifier, RandomForestClassifier\n",
    "from sklearn.metrics import *\n",
    "from sklearn.model_selection import (KFold, ParameterGrid, RandomizedSearchCV,\n",
    "                                     cross_val_score, train_test_split)\n",
    "from sklearn.preprocessing import Imputer, StandardScaler\n",
    "from xgboost import XGBClassifier\n",
    "\n",
    "%matplotlib inline\n",
    "warnings.filterwarnings('ignore')\n",
    "pd.options.display.float_format = '{:,.2f}'.format"
   ]
  },
  {
   "cell_type": "code",
   "execution_count": null,
   "metadata": {},
   "outputs": [],
   "source": [
    "cwd = os.getcwd()"
   ]
  },
  {
   "cell_type": "code",
   "execution_count": 3,
   "metadata": {
    "ExecuteTime": {
     "end_time": "2018-12-13T10:23:47.464371Z",
     "start_time": "2018-12-13T10:23:47.461638Z"
    }
   },
   "outputs": [],
   "source": [
    "data_path = cwd + \"../data/raw/\"\n",
    "models_path = cwd + \"../models/\"\n",
    "results_path = cwd + \"../results/\""
   ]
  },
  {
   "cell_type": "code",
   "execution_count": 5,
   "metadata": {
    "ExecuteTime": {
     "end_time": "2018-12-13T10:23:56.719543Z",
     "start_time": "2018-12-13T10:23:56.710930Z"
    }
   },
   "outputs": [],
   "source": [
    "os.chdir(data_path)"
   ]
  },
  {
   "cell_type": "code",
   "execution_count": 6,
   "metadata": {
    "ExecuteTime": {
     "end_time": "2018-12-13T10:24:24.187653Z",
     "start_time": "2018-12-13T10:24:23.437801Z"
    }
   },
   "outputs": [],
   "source": [
    "na_vals = [\"\", \"?\", \"-\", \"None\", \"NA\"]\n",
    "train_vals = pd.read_csv(\"TrainingSetValues.csv\", sep=\",\", na_values=na_vals)\n",
    "train_labels = pd.read_csv(\"TrainingSetLabels.csv\", sep=\",\", na_values=na_vals)\n",
    "\n",
    "test = pd.read_csv(\"TestSetValues.csv\", sep=\",\", na_values=na_vals)"
   ]
  },
  {
   "cell_type": "code",
   "execution_count": 7,
   "metadata": {
    "ExecuteTime": {
     "end_time": "2018-12-13T10:24:26.088053Z",
     "start_time": "2018-12-13T10:24:26.085190Z"
    }
   },
   "outputs": [],
   "source": [
    "test_id = test['id']"
   ]
  },
  {
   "cell_type": "code",
   "execution_count": 8,
   "metadata": {
    "ExecuteTime": {
     "end_time": "2018-12-13T10:24:27.974839Z",
     "start_time": "2018-12-13T10:24:27.930688Z"
    }
   },
   "outputs": [
    {
     "data": {
      "text/html": [
       "<div>\n",
       "<style scoped>\n",
       "    .dataframe tbody tr th:only-of-type {\n",
       "        vertical-align: middle;\n",
       "    }\n",
       "\n",
       "    .dataframe tbody tr th {\n",
       "        vertical-align: top;\n",
       "    }\n",
       "\n",
       "    .dataframe thead th {\n",
       "        text-align: right;\n",
       "    }\n",
       "</style>\n",
       "<table border=\"1\" class=\"dataframe\">\n",
       "  <thead>\n",
       "    <tr style=\"text-align: right;\">\n",
       "      <th></th>\n",
       "      <th>id</th>\n",
       "      <th>amount_tsh</th>\n",
       "      <th>date_recorded</th>\n",
       "      <th>funder</th>\n",
       "      <th>gps_height</th>\n",
       "      <th>installer</th>\n",
       "      <th>longitude</th>\n",
       "      <th>latitude</th>\n",
       "      <th>wpt_name</th>\n",
       "      <th>num_private</th>\n",
       "      <th>...</th>\n",
       "      <th>payment_type</th>\n",
       "      <th>water_quality</th>\n",
       "      <th>quality_group</th>\n",
       "      <th>quantity</th>\n",
       "      <th>quantity_group</th>\n",
       "      <th>source</th>\n",
       "      <th>source_type</th>\n",
       "      <th>source_class</th>\n",
       "      <th>waterpoint_type</th>\n",
       "      <th>waterpoint_type_group</th>\n",
       "    </tr>\n",
       "  </thead>\n",
       "  <tbody>\n",
       "    <tr>\n",
       "      <th>0</th>\n",
       "      <td>69572</td>\n",
       "      <td>6,000.00</td>\n",
       "      <td>2011-03-14</td>\n",
       "      <td>Roman</td>\n",
       "      <td>1390</td>\n",
       "      <td>Roman</td>\n",
       "      <td>34.94</td>\n",
       "      <td>-9.86</td>\n",
       "      <td>none</td>\n",
       "      <td>0</td>\n",
       "      <td>...</td>\n",
       "      <td>annually</td>\n",
       "      <td>soft</td>\n",
       "      <td>good</td>\n",
       "      <td>enough</td>\n",
       "      <td>enough</td>\n",
       "      <td>spring</td>\n",
       "      <td>spring</td>\n",
       "      <td>groundwater</td>\n",
       "      <td>communal standpipe</td>\n",
       "      <td>communal standpipe</td>\n",
       "    </tr>\n",
       "    <tr>\n",
       "      <th>1</th>\n",
       "      <td>8776</td>\n",
       "      <td>0.00</td>\n",
       "      <td>2013-03-06</td>\n",
       "      <td>Grumeti</td>\n",
       "      <td>1399</td>\n",
       "      <td>GRUMETI</td>\n",
       "      <td>34.70</td>\n",
       "      <td>-2.15</td>\n",
       "      <td>Zahanati</td>\n",
       "      <td>0</td>\n",
       "      <td>...</td>\n",
       "      <td>never pay</td>\n",
       "      <td>soft</td>\n",
       "      <td>good</td>\n",
       "      <td>insufficient</td>\n",
       "      <td>insufficient</td>\n",
       "      <td>rainwater harvesting</td>\n",
       "      <td>rainwater harvesting</td>\n",
       "      <td>surface</td>\n",
       "      <td>communal standpipe</td>\n",
       "      <td>communal standpipe</td>\n",
       "    </tr>\n",
       "    <tr>\n",
       "      <th>2</th>\n",
       "      <td>34310</td>\n",
       "      <td>25.00</td>\n",
       "      <td>2013-02-25</td>\n",
       "      <td>Lottery Club</td>\n",
       "      <td>686</td>\n",
       "      <td>World vision</td>\n",
       "      <td>37.46</td>\n",
       "      <td>-3.82</td>\n",
       "      <td>Kwa Mahundi</td>\n",
       "      <td>0</td>\n",
       "      <td>...</td>\n",
       "      <td>per bucket</td>\n",
       "      <td>soft</td>\n",
       "      <td>good</td>\n",
       "      <td>enough</td>\n",
       "      <td>enough</td>\n",
       "      <td>dam</td>\n",
       "      <td>dam</td>\n",
       "      <td>surface</td>\n",
       "      <td>communal standpipe multiple</td>\n",
       "      <td>communal standpipe</td>\n",
       "    </tr>\n",
       "  </tbody>\n",
       "</table>\n",
       "<p>3 rows × 40 columns</p>\n",
       "</div>"
      ],
      "text/plain": [
       "      id  amount_tsh date_recorded        funder  gps_height     installer  \\\n",
       "0  69572    6,000.00    2011-03-14         Roman        1390         Roman   \n",
       "1   8776        0.00    2013-03-06       Grumeti        1399       GRUMETI   \n",
       "2  34310       25.00    2013-02-25  Lottery Club         686  World vision   \n",
       "\n",
       "   longitude  latitude     wpt_name  num_private          ...           \\\n",
       "0      34.94     -9.86         none            0          ...            \n",
       "1      34.70     -2.15     Zahanati            0          ...            \n",
       "2      37.46     -3.82  Kwa Mahundi            0          ...            \n",
       "\n",
       "  payment_type water_quality quality_group      quantity  quantity_group  \\\n",
       "0     annually          soft          good        enough          enough   \n",
       "1    never pay          soft          good  insufficient    insufficient   \n",
       "2   per bucket          soft          good        enough          enough   \n",
       "\n",
       "                 source           source_type  source_class  \\\n",
       "0                spring                spring   groundwater   \n",
       "1  rainwater harvesting  rainwater harvesting       surface   \n",
       "2                   dam                   dam       surface   \n",
       "\n",
       "               waterpoint_type waterpoint_type_group  \n",
       "0           communal standpipe    communal standpipe  \n",
       "1           communal standpipe    communal standpipe  \n",
       "2  communal standpipe multiple    communal standpipe  \n",
       "\n",
       "[3 rows x 40 columns]"
      ]
     },
     "execution_count": 8,
     "metadata": {},
     "output_type": "execute_result"
    }
   ],
   "source": [
    "train_vals.head(3)"
   ]
  },
  {
   "cell_type": "code",
   "execution_count": 9,
   "metadata": {
    "ExecuteTime": {
     "end_time": "2018-12-13T10:24:29.878681Z",
     "start_time": "2018-12-13T10:24:29.867331Z"
    }
   },
   "outputs": [
    {
     "data": {
      "text/html": [
       "<div>\n",
       "<style scoped>\n",
       "    .dataframe tbody tr th:only-of-type {\n",
       "        vertical-align: middle;\n",
       "    }\n",
       "\n",
       "    .dataframe tbody tr th {\n",
       "        vertical-align: top;\n",
       "    }\n",
       "\n",
       "    .dataframe thead th {\n",
       "        text-align: right;\n",
       "    }\n",
       "</style>\n",
       "<table border=\"1\" class=\"dataframe\">\n",
       "  <thead>\n",
       "    <tr style=\"text-align: right;\">\n",
       "      <th></th>\n",
       "      <th>id</th>\n",
       "      <th>status_group</th>\n",
       "    </tr>\n",
       "  </thead>\n",
       "  <tbody>\n",
       "    <tr>\n",
       "      <th>0</th>\n",
       "      <td>69572</td>\n",
       "      <td>functional</td>\n",
       "    </tr>\n",
       "    <tr>\n",
       "      <th>1</th>\n",
       "      <td>8776</td>\n",
       "      <td>functional</td>\n",
       "    </tr>\n",
       "    <tr>\n",
       "      <th>2</th>\n",
       "      <td>34310</td>\n",
       "      <td>functional</td>\n",
       "    </tr>\n",
       "  </tbody>\n",
       "</table>\n",
       "</div>"
      ],
      "text/plain": [
       "      id status_group\n",
       "0  69572   functional\n",
       "1   8776   functional\n",
       "2  34310   functional"
      ]
     },
     "execution_count": 9,
     "metadata": {},
     "output_type": "execute_result"
    }
   ],
   "source": [
    "train_labels.head(3)"
   ]
  },
  {
   "cell_type": "code",
   "execution_count": 10,
   "metadata": {
    "ExecuteTime": {
     "end_time": "2018-12-13T10:24:31.870239Z",
     "start_time": "2018-12-13T10:24:31.841587Z"
    }
   },
   "outputs": [
    {
     "data": {
      "text/html": [
       "<div>\n",
       "<style scoped>\n",
       "    .dataframe tbody tr th:only-of-type {\n",
       "        vertical-align: middle;\n",
       "    }\n",
       "\n",
       "    .dataframe tbody tr th {\n",
       "        vertical-align: top;\n",
       "    }\n",
       "\n",
       "    .dataframe thead th {\n",
       "        text-align: right;\n",
       "    }\n",
       "</style>\n",
       "<table border=\"1\" class=\"dataframe\">\n",
       "  <thead>\n",
       "    <tr style=\"text-align: right;\">\n",
       "      <th></th>\n",
       "      <th>id</th>\n",
       "      <th>amount_tsh</th>\n",
       "      <th>date_recorded</th>\n",
       "      <th>funder</th>\n",
       "      <th>gps_height</th>\n",
       "      <th>installer</th>\n",
       "      <th>longitude</th>\n",
       "      <th>latitude</th>\n",
       "      <th>wpt_name</th>\n",
       "      <th>num_private</th>\n",
       "      <th>...</th>\n",
       "      <th>payment_type</th>\n",
       "      <th>water_quality</th>\n",
       "      <th>quality_group</th>\n",
       "      <th>quantity</th>\n",
       "      <th>quantity_group</th>\n",
       "      <th>source</th>\n",
       "      <th>source_type</th>\n",
       "      <th>source_class</th>\n",
       "      <th>waterpoint_type</th>\n",
       "      <th>waterpoint_type_group</th>\n",
       "    </tr>\n",
       "  </thead>\n",
       "  <tbody>\n",
       "    <tr>\n",
       "      <th>0</th>\n",
       "      <td>50785</td>\n",
       "      <td>0.00</td>\n",
       "      <td>2013-02-04</td>\n",
       "      <td>Dmdd</td>\n",
       "      <td>1996</td>\n",
       "      <td>DMDD</td>\n",
       "      <td>35.29</td>\n",
       "      <td>-4.06</td>\n",
       "      <td>Dinamu Secondary School</td>\n",
       "      <td>0</td>\n",
       "      <td>...</td>\n",
       "      <td>never pay</td>\n",
       "      <td>soft</td>\n",
       "      <td>good</td>\n",
       "      <td>seasonal</td>\n",
       "      <td>seasonal</td>\n",
       "      <td>rainwater harvesting</td>\n",
       "      <td>rainwater harvesting</td>\n",
       "      <td>surface</td>\n",
       "      <td>other</td>\n",
       "      <td>other</td>\n",
       "    </tr>\n",
       "    <tr>\n",
       "      <th>1</th>\n",
       "      <td>51630</td>\n",
       "      <td>0.00</td>\n",
       "      <td>2013-02-04</td>\n",
       "      <td>Government Of Tanzania</td>\n",
       "      <td>1569</td>\n",
       "      <td>DWE</td>\n",
       "      <td>36.66</td>\n",
       "      <td>-3.31</td>\n",
       "      <td>Kimnyak</td>\n",
       "      <td>0</td>\n",
       "      <td>...</td>\n",
       "      <td>never pay</td>\n",
       "      <td>soft</td>\n",
       "      <td>good</td>\n",
       "      <td>insufficient</td>\n",
       "      <td>insufficient</td>\n",
       "      <td>spring</td>\n",
       "      <td>spring</td>\n",
       "      <td>groundwater</td>\n",
       "      <td>communal standpipe</td>\n",
       "      <td>communal standpipe</td>\n",
       "    </tr>\n",
       "    <tr>\n",
       "      <th>2</th>\n",
       "      <td>17168</td>\n",
       "      <td>0.00</td>\n",
       "      <td>2013-02-01</td>\n",
       "      <td>NaN</td>\n",
       "      <td>1567</td>\n",
       "      <td>NaN</td>\n",
       "      <td>34.77</td>\n",
       "      <td>-5.00</td>\n",
       "      <td>Puma Secondary</td>\n",
       "      <td>0</td>\n",
       "      <td>...</td>\n",
       "      <td>never pay</td>\n",
       "      <td>soft</td>\n",
       "      <td>good</td>\n",
       "      <td>insufficient</td>\n",
       "      <td>insufficient</td>\n",
       "      <td>rainwater harvesting</td>\n",
       "      <td>rainwater harvesting</td>\n",
       "      <td>surface</td>\n",
       "      <td>other</td>\n",
       "      <td>other</td>\n",
       "    </tr>\n",
       "  </tbody>\n",
       "</table>\n",
       "<p>3 rows × 40 columns</p>\n",
       "</div>"
      ],
      "text/plain": [
       "      id  amount_tsh date_recorded                  funder  gps_height  \\\n",
       "0  50785        0.00    2013-02-04                    Dmdd        1996   \n",
       "1  51630        0.00    2013-02-04  Government Of Tanzania        1569   \n",
       "2  17168        0.00    2013-02-01                     NaN        1567   \n",
       "\n",
       "  installer  longitude  latitude                 wpt_name  num_private  \\\n",
       "0      DMDD      35.29     -4.06  Dinamu Secondary School            0   \n",
       "1       DWE      36.66     -3.31                  Kimnyak            0   \n",
       "2       NaN      34.77     -5.00           Puma Secondary            0   \n",
       "\n",
       "           ...          payment_type water_quality quality_group  \\\n",
       "0          ...             never pay          soft          good   \n",
       "1          ...             never pay          soft          good   \n",
       "2          ...             never pay          soft          good   \n",
       "\n",
       "       quantity  quantity_group                source           source_type  \\\n",
       "0      seasonal        seasonal  rainwater harvesting  rainwater harvesting   \n",
       "1  insufficient    insufficient                spring                spring   \n",
       "2  insufficient    insufficient  rainwater harvesting  rainwater harvesting   \n",
       "\n",
       "   source_class     waterpoint_type waterpoint_type_group  \n",
       "0       surface               other                 other  \n",
       "1   groundwater  communal standpipe    communal standpipe  \n",
       "2       surface               other                 other  \n",
       "\n",
       "[3 rows x 40 columns]"
      ]
     },
     "execution_count": 10,
     "metadata": {},
     "output_type": "execute_result"
    }
   ],
   "source": [
    "test.head(3)"
   ]
  },
  {
   "cell_type": "code",
   "execution_count": 11,
   "metadata": {
    "ExecuteTime": {
     "end_time": "2018-12-13T10:24:33.910612Z",
     "start_time": "2018-12-13T10:24:33.794865Z"
    }
   },
   "outputs": [
    {
     "name": "stdout",
     "output_type": "stream",
     "text": [
      "<class 'pandas.core.frame.DataFrame'>\n",
      "RangeIndex: 59400 entries, 0 to 59399\n",
      "Data columns (total 40 columns):\n",
      "id                       59400 non-null int64\n",
      "amount_tsh               59400 non-null float64\n",
      "date_recorded            59400 non-null object\n",
      "funder                   55763 non-null object\n",
      "gps_height               59400 non-null int64\n",
      "installer                55742 non-null object\n",
      "longitude                59400 non-null float64\n",
      "latitude                 59400 non-null float64\n",
      "wpt_name                 59398 non-null object\n",
      "num_private              59400 non-null int64\n",
      "basin                    59400 non-null object\n",
      "subvillage               59029 non-null object\n",
      "region                   59400 non-null object\n",
      "region_code              59400 non-null int64\n",
      "district_code            59400 non-null int64\n",
      "lga                      59400 non-null object\n",
      "ward                     59400 non-null object\n",
      "population               59400 non-null int64\n",
      "public_meeting           56066 non-null object\n",
      "recorded_by              59400 non-null object\n",
      "scheme_management        55522 non-null object\n",
      "scheme_name              30590 non-null object\n",
      "permit                   56344 non-null object\n",
      "construction_year        59400 non-null int64\n",
      "extraction_type          59400 non-null object\n",
      "extraction_type_group    59400 non-null object\n",
      "extraction_type_class    59400 non-null object\n",
      "management               59400 non-null object\n",
      "management_group         59400 non-null object\n",
      "payment                  59400 non-null object\n",
      "payment_type             59400 non-null object\n",
      "water_quality            59400 non-null object\n",
      "quality_group            59400 non-null object\n",
      "quantity                 59400 non-null object\n",
      "quantity_group           59400 non-null object\n",
      "source                   59400 non-null object\n",
      "source_type              59400 non-null object\n",
      "source_class             59400 non-null object\n",
      "waterpoint_type          59400 non-null object\n",
      "waterpoint_type_group    59400 non-null object\n",
      "dtypes: float64(3), int64(7), object(30)\n",
      "memory usage: 18.1+ MB\n"
     ]
    }
   ],
   "source": [
    "train_vals.info()"
   ]
  },
  {
   "cell_type": "code",
   "execution_count": 12,
   "metadata": {
    "ExecuteTime": {
     "end_time": "2018-12-13T10:24:35.807441Z",
     "start_time": "2018-12-13T10:24:35.791746Z"
    }
   },
   "outputs": [
    {
     "name": "stdout",
     "output_type": "stream",
     "text": [
      "<class 'pandas.core.frame.DataFrame'>\n",
      "RangeIndex: 59400 entries, 0 to 59399\n",
      "Data columns (total 2 columns):\n",
      "id              59400 non-null int64\n",
      "status_group    59400 non-null object\n",
      "dtypes: int64(1), object(1)\n",
      "memory usage: 928.2+ KB\n"
     ]
    }
   ],
   "source": [
    "train_labels.info()"
   ]
  },
  {
   "cell_type": "code",
   "execution_count": 13,
   "metadata": {
    "ExecuteTime": {
     "end_time": "2018-12-13T10:24:37.758944Z",
     "start_time": "2018-12-13T10:24:37.556760Z"
    }
   },
   "outputs": [],
   "source": [
    "train = pd.merge(train_vals,train_labels,left_on=\"id\",right_on=\"id\")"
   ]
  },
  {
   "cell_type": "code",
   "execution_count": 14,
   "metadata": {
    "ExecuteTime": {
     "end_time": "2018-12-13T10:24:41.197488Z",
     "start_time": "2018-12-13T10:24:40.982916Z"
    }
   },
   "outputs": [
    {
     "name": "stdout",
     "output_type": "stream",
     "text": [
      "<class 'pandas.core.frame.DataFrame'>\n",
      "Int64Index: 59400 entries, 0 to 59399\n",
      "Data columns (total 41 columns):\n",
      "id                       59400 non-null int64\n",
      "amount_tsh               59400 non-null float64\n",
      "date_recorded            59400 non-null object\n",
      "funder                   55763 non-null object\n",
      "gps_height               59400 non-null int64\n",
      "installer                55742 non-null object\n",
      "longitude                59400 non-null float64\n",
      "latitude                 59400 non-null float64\n",
      "wpt_name                 59398 non-null object\n",
      "num_private              59400 non-null int64\n",
      "basin                    59400 non-null object\n",
      "subvillage               59029 non-null object\n",
      "region                   59400 non-null object\n",
      "region_code              59400 non-null int64\n",
      "district_code            59400 non-null int64\n",
      "lga                      59400 non-null object\n",
      "ward                     59400 non-null object\n",
      "population               59400 non-null int64\n",
      "public_meeting           56066 non-null object\n",
      "recorded_by              59400 non-null object\n",
      "scheme_management        55522 non-null object\n",
      "scheme_name              30590 non-null object\n",
      "permit                   56344 non-null object\n",
      "construction_year        59400 non-null int64\n",
      "extraction_type          59400 non-null object\n",
      "extraction_type_group    59400 non-null object\n",
      "extraction_type_class    59400 non-null object\n",
      "management               59400 non-null object\n",
      "management_group         59400 non-null object\n",
      "payment                  59400 non-null object\n",
      "payment_type             59400 non-null object\n",
      "water_quality            59400 non-null object\n",
      "quality_group            59400 non-null object\n",
      "quantity                 59400 non-null object\n",
      "quantity_group           59400 non-null object\n",
      "source                   59400 non-null object\n",
      "source_type              59400 non-null object\n",
      "source_class             59400 non-null object\n",
      "waterpoint_type          59400 non-null object\n",
      "waterpoint_type_group    59400 non-null object\n",
      "status_group             59400 non-null object\n",
      "dtypes: float64(3), int64(7), object(31)\n",
      "memory usage: 19.0+ MB\n"
     ]
    }
   ],
   "source": [
    "train.info()"
   ]
  },
  {
   "cell_type": "code",
   "execution_count": 15,
   "metadata": {
    "ExecuteTime": {
     "end_time": "2018-12-13T10:24:43.785200Z",
     "start_time": "2018-12-13T10:24:43.782092Z"
    }
   },
   "outputs": [],
   "source": [
    "del train_labels\n",
    "del train_vals"
   ]
  },
  {
   "cell_type": "code",
   "execution_count": 16,
   "metadata": {
    "ExecuteTime": {
     "end_time": "2018-12-13T10:24:45.441191Z",
     "start_time": "2018-12-13T10:24:45.418890Z"
    }
   },
   "outputs": [],
   "source": [
    "train.drop('id',axis=1,inplace=True)"
   ]
  },
  {
   "cell_type": "code",
   "execution_count": 17,
   "metadata": {
    "ExecuteTime": {
     "end_time": "2018-12-13T10:24:47.220495Z",
     "start_time": "2018-12-13T10:24:47.216379Z"
    }
   },
   "outputs": [],
   "source": [
    "def dropCols(data,cols,inplace_param = True):\n",
    "    existing_cols = data.columns.intersection(cols)\n",
    "    return data.drop(existing_cols,axis=1,inplace= inplace_param)"
   ]
  },
  {
   "cell_type": "code",
   "execution_count": 18,
   "metadata": {
    "ExecuteTime": {
     "end_time": "2018-12-13T10:24:49.127845Z",
     "start_time": "2018-12-13T10:24:48.984622Z"
    }
   },
   "outputs": [],
   "source": [
    "dropCols(train,['id'])\n",
    "dropCols(test,['id'])"
   ]
  },
  {
   "cell_type": "code",
   "execution_count": 19,
   "metadata": {
    "ExecuteTime": {
     "end_time": "2018-12-13T10:25:30.719541Z",
     "start_time": "2018-12-13T10:25:30.710899Z"
    }
   },
   "outputs": [
    {
     "data": {
      "text/plain": [
       "Index(['amount_tsh', 'date_recorded', 'funder', 'gps_height', 'installer',\n",
       "       'longitude', 'latitude', 'wpt_name', 'num_private', 'basin',\n",
       "       'subvillage', 'region', 'region_code', 'district_code', 'lga', 'ward',\n",
       "       'population', 'public_meeting', 'recorded_by', 'scheme_management',\n",
       "       'scheme_name', 'permit', 'construction_year', 'extraction_type',\n",
       "       'extraction_type_group', 'extraction_type_class', 'management',\n",
       "       'management_group', 'payment', 'payment_type', 'water_quality',\n",
       "       'quality_group', 'quantity', 'quantity_group', 'source', 'source_type',\n",
       "       'source_class', 'waterpoint_type', 'waterpoint_type_group',\n",
       "       'status_group'],\n",
       "      dtype='object')"
      ]
     },
     "execution_count": 19,
     "metadata": {},
     "output_type": "execute_result"
    }
   ],
   "source": [
    "train.columns"
   ]
  },
  {
   "cell_type": "code",
   "execution_count": 20,
   "metadata": {
    "ExecuteTime": {
     "end_time": "2018-12-13T10:25:32.610079Z",
     "start_time": "2018-12-13T10:25:32.590716Z"
    }
   },
   "outputs": [
    {
     "name": "stdout",
     "output_type": "stream",
     "text": [
      "Categorical variables: 34 \n",
      " Index(['basin', 'construction_year', 'date_recorded', 'district_code',\n",
      "       'extraction_type', 'extraction_type_class', 'extraction_type_group',\n",
      "       'funder', 'installer', 'lga', 'management', 'management_group',\n",
      "       'payment', 'payment_type', 'permit', 'public_meeting', 'quality_group',\n",
      "       'quantity', 'quantity_group', 'recorded_by', 'region', 'region_code',\n",
      "       'scheme_management', 'scheme_name', 'source', 'source_class',\n",
      "       'source_type', 'status_group', 'subvillage', 'ward', 'water_quality',\n",
      "       'waterpoint_type', 'waterpoint_type_group', 'wpt_name'],\n",
      "      dtype='object')\n"
     ]
    }
   ],
   "source": [
    "cat_var = train.dtypes[train.dtypes == 'object'].index\n",
    "cat_var = cat_var.union(['district_code','region_code','construction_year'])\n",
    "print(\"Categorical variables: %d\"%len(cat_var),\"\\n\",cat_var)"
   ]
  },
  {
   "cell_type": "code",
   "execution_count": 21,
   "metadata": {
    "ExecuteTime": {
     "end_time": "2018-12-13T10:25:34.365155Z",
     "start_time": "2018-12-13T10:25:34.359877Z"
    }
   },
   "outputs": [
    {
     "name": "stdout",
     "output_type": "stream",
     "text": [
      "Numerical variables:6 \n",
      " Index(['amount_tsh', 'gps_height', 'latitude', 'longitude', 'num_private',\n",
      "       'population'],\n",
      "      dtype='object')\n"
     ]
    }
   ],
   "source": [
    "num_var = train.columns.difference(cat_var)\n",
    "print(\"Numerical variables:%d\"%len(num_var),\"\\n\",num_var)"
   ]
  },
  {
   "cell_type": "code",
   "execution_count": 22,
   "metadata": {
    "ExecuteTime": {
     "end_time": "2018-12-13T10:25:37.162632Z",
     "start_time": "2018-12-13T10:25:36.197973Z"
    }
   },
   "outputs": [
    {
     "data": {
      "text/plain": [
       "amount_tsh                float64\n",
       "date_recorded            category\n",
       "funder                   category\n",
       "gps_height                  int64\n",
       "installer                category\n",
       "longitude                 float64\n",
       "latitude                  float64\n",
       "wpt_name                 category\n",
       "num_private                 int64\n",
       "basin                    category\n",
       "subvillage               category\n",
       "region                   category\n",
       "region_code              category\n",
       "district_code            category\n",
       "lga                      category\n",
       "ward                     category\n",
       "population                  int64\n",
       "public_meeting           category\n",
       "recorded_by              category\n",
       "scheme_management        category\n",
       "scheme_name              category\n",
       "permit                   category\n",
       "construction_year        category\n",
       "extraction_type          category\n",
       "extraction_type_group    category\n",
       "extraction_type_class    category\n",
       "management               category\n",
       "management_group         category\n",
       "payment                  category\n",
       "payment_type             category\n",
       "water_quality            category\n",
       "quality_group            category\n",
       "quantity                 category\n",
       "quantity_group           category\n",
       "source                   category\n",
       "source_type              category\n",
       "source_class             category\n",
       "waterpoint_type          category\n",
       "waterpoint_type_group    category\n",
       "status_group             category\n",
       "dtype: object"
      ]
     },
     "execution_count": 22,
     "metadata": {},
     "output_type": "execute_result"
    }
   ],
   "source": [
    "train[cat_var] = train[cat_var].apply(lambda x: x.astype('category'))\n",
    "train.dtypes"
   ]
  },
  {
   "cell_type": "code",
   "execution_count": 23,
   "metadata": {
    "ExecuteTime": {
     "end_time": "2018-12-13T10:25:40.216704Z",
     "start_time": "2018-12-13T10:25:40.212810Z"
    }
   },
   "outputs": [],
   "source": [
    "#water_quality can be ordinal\n",
    "#construction_year, date_recorded datetime type"
   ]
  },
  {
   "cell_type": "markdown",
   "metadata": {},
   "source": [
    "### Exploratory Data Analysis"
   ]
  },
  {
   "cell_type": "code",
   "execution_count": 24,
   "metadata": {
    "ExecuteTime": {
     "end_time": "2018-12-13T10:25:43.225076Z",
     "start_time": "2018-12-13T10:25:43.221736Z"
    },
    "run_control": {
     "marked": false
    }
   },
   "outputs": [],
   "source": [
    "#train_bkp = train.copy(deep=True)\n",
    "#test_bkp = test.copy(deep=True)"
   ]
  },
  {
   "cell_type": "code",
   "execution_count": 25,
   "metadata": {
    "ExecuteTime": {
     "end_time": "2018-12-13T10:25:46.560345Z",
     "start_time": "2018-12-13T10:25:46.191331Z"
    }
   },
   "outputs": [
    {
     "data": {
      "text/html": [
       "<div>\n",
       "<style scoped>\n",
       "    .dataframe tbody tr th:only-of-type {\n",
       "        vertical-align: middle;\n",
       "    }\n",
       "\n",
       "    .dataframe tbody tr th {\n",
       "        vertical-align: top;\n",
       "    }\n",
       "\n",
       "    .dataframe thead th {\n",
       "        text-align: right;\n",
       "    }\n",
       "</style>\n",
       "<table border=\"1\" class=\"dataframe\">\n",
       "  <thead>\n",
       "    <tr style=\"text-align: right;\">\n",
       "      <th></th>\n",
       "      <th>count</th>\n",
       "      <th>unique</th>\n",
       "      <th>top</th>\n",
       "      <th>freq</th>\n",
       "    </tr>\n",
       "  </thead>\n",
       "  <tbody>\n",
       "    <tr>\n",
       "      <th>wpt_name</th>\n",
       "      <td>59398</td>\n",
       "      <td>37399</td>\n",
       "      <td>none</td>\n",
       "      <td>3563</td>\n",
       "    </tr>\n",
       "    <tr>\n",
       "      <th>subvillage</th>\n",
       "      <td>59029</td>\n",
       "      <td>19287</td>\n",
       "      <td>Madukani</td>\n",
       "      <td>508</td>\n",
       "    </tr>\n",
       "    <tr>\n",
       "      <th>scheme_name</th>\n",
       "      <td>30590</td>\n",
       "      <td>2695</td>\n",
       "      <td>K</td>\n",
       "      <td>682</td>\n",
       "    </tr>\n",
       "    <tr>\n",
       "      <th>installer</th>\n",
       "      <td>55742</td>\n",
       "      <td>2144</td>\n",
       "      <td>DWE</td>\n",
       "      <td>17402</td>\n",
       "    </tr>\n",
       "    <tr>\n",
       "      <th>ward</th>\n",
       "      <td>59400</td>\n",
       "      <td>2092</td>\n",
       "      <td>Igosi</td>\n",
       "      <td>307</td>\n",
       "    </tr>\n",
       "    <tr>\n",
       "      <th>funder</th>\n",
       "      <td>55763</td>\n",
       "      <td>1896</td>\n",
       "      <td>Government Of Tanzania</td>\n",
       "      <td>9084</td>\n",
       "    </tr>\n",
       "    <tr>\n",
       "      <th>date_recorded</th>\n",
       "      <td>59400</td>\n",
       "      <td>356</td>\n",
       "      <td>2011-03-15</td>\n",
       "      <td>572</td>\n",
       "    </tr>\n",
       "    <tr>\n",
       "      <th>lga</th>\n",
       "      <td>59400</td>\n",
       "      <td>125</td>\n",
       "      <td>Njombe</td>\n",
       "      <td>2503</td>\n",
       "    </tr>\n",
       "    <tr>\n",
       "      <th>construction_year</th>\n",
       "      <td>59400</td>\n",
       "      <td>55</td>\n",
       "      <td>0</td>\n",
       "      <td>20709</td>\n",
       "    </tr>\n",
       "    <tr>\n",
       "      <th>region_code</th>\n",
       "      <td>59400</td>\n",
       "      <td>27</td>\n",
       "      <td>11</td>\n",
       "      <td>5300</td>\n",
       "    </tr>\n",
       "    <tr>\n",
       "      <th>region</th>\n",
       "      <td>59400</td>\n",
       "      <td>21</td>\n",
       "      <td>Iringa</td>\n",
       "      <td>5294</td>\n",
       "    </tr>\n",
       "    <tr>\n",
       "      <th>district_code</th>\n",
       "      <td>59400</td>\n",
       "      <td>20</td>\n",
       "      <td>1</td>\n",
       "      <td>12203</td>\n",
       "    </tr>\n",
       "    <tr>\n",
       "      <th>extraction_type</th>\n",
       "      <td>59400</td>\n",
       "      <td>18</td>\n",
       "      <td>gravity</td>\n",
       "      <td>26780</td>\n",
       "    </tr>\n",
       "    <tr>\n",
       "      <th>extraction_type_group</th>\n",
       "      <td>59400</td>\n",
       "      <td>13</td>\n",
       "      <td>gravity</td>\n",
       "      <td>26780</td>\n",
       "    </tr>\n",
       "    <tr>\n",
       "      <th>management</th>\n",
       "      <td>59400</td>\n",
       "      <td>12</td>\n",
       "      <td>vwc</td>\n",
       "      <td>40507</td>\n",
       "    </tr>\n",
       "    <tr>\n",
       "      <th>scheme_management</th>\n",
       "      <td>55522</td>\n",
       "      <td>11</td>\n",
       "      <td>VWC</td>\n",
       "      <td>36793</td>\n",
       "    </tr>\n",
       "    <tr>\n",
       "      <th>source</th>\n",
       "      <td>59400</td>\n",
       "      <td>10</td>\n",
       "      <td>spring</td>\n",
       "      <td>17021</td>\n",
       "    </tr>\n",
       "    <tr>\n",
       "      <th>basin</th>\n",
       "      <td>59400</td>\n",
       "      <td>9</td>\n",
       "      <td>Lake Victoria</td>\n",
       "      <td>10248</td>\n",
       "    </tr>\n",
       "    <tr>\n",
       "      <th>water_quality</th>\n",
       "      <td>59400</td>\n",
       "      <td>8</td>\n",
       "      <td>soft</td>\n",
       "      <td>50818</td>\n",
       "    </tr>\n",
       "    <tr>\n",
       "      <th>payment</th>\n",
       "      <td>59400</td>\n",
       "      <td>7</td>\n",
       "      <td>never pay</td>\n",
       "      <td>25348</td>\n",
       "    </tr>\n",
       "    <tr>\n",
       "      <th>waterpoint_type</th>\n",
       "      <td>59400</td>\n",
       "      <td>7</td>\n",
       "      <td>communal standpipe</td>\n",
       "      <td>28522</td>\n",
       "    </tr>\n",
       "    <tr>\n",
       "      <th>source_type</th>\n",
       "      <td>59400</td>\n",
       "      <td>7</td>\n",
       "      <td>spring</td>\n",
       "      <td>17021</td>\n",
       "    </tr>\n",
       "    <tr>\n",
       "      <th>payment_type</th>\n",
       "      <td>59400</td>\n",
       "      <td>7</td>\n",
       "      <td>never pay</td>\n",
       "      <td>25348</td>\n",
       "    </tr>\n",
       "    <tr>\n",
       "      <th>extraction_type_class</th>\n",
       "      <td>59400</td>\n",
       "      <td>7</td>\n",
       "      <td>gravity</td>\n",
       "      <td>26780</td>\n",
       "    </tr>\n",
       "    <tr>\n",
       "      <th>quality_group</th>\n",
       "      <td>59400</td>\n",
       "      <td>6</td>\n",
       "      <td>good</td>\n",
       "      <td>50818</td>\n",
       "    </tr>\n",
       "    <tr>\n",
       "      <th>waterpoint_type_group</th>\n",
       "      <td>59400</td>\n",
       "      <td>6</td>\n",
       "      <td>communal standpipe</td>\n",
       "      <td>34625</td>\n",
       "    </tr>\n",
       "    <tr>\n",
       "      <th>management_group</th>\n",
       "      <td>59400</td>\n",
       "      <td>5</td>\n",
       "      <td>user-group</td>\n",
       "      <td>52490</td>\n",
       "    </tr>\n",
       "    <tr>\n",
       "      <th>quantity</th>\n",
       "      <td>59400</td>\n",
       "      <td>5</td>\n",
       "      <td>enough</td>\n",
       "      <td>33186</td>\n",
       "    </tr>\n",
       "    <tr>\n",
       "      <th>quantity_group</th>\n",
       "      <td>59400</td>\n",
       "      <td>5</td>\n",
       "      <td>enough</td>\n",
       "      <td>33186</td>\n",
       "    </tr>\n",
       "    <tr>\n",
       "      <th>source_class</th>\n",
       "      <td>59400</td>\n",
       "      <td>3</td>\n",
       "      <td>groundwater</td>\n",
       "      <td>45794</td>\n",
       "    </tr>\n",
       "    <tr>\n",
       "      <th>status_group</th>\n",
       "      <td>59400</td>\n",
       "      <td>3</td>\n",
       "      <td>functional</td>\n",
       "      <td>32259</td>\n",
       "    </tr>\n",
       "    <tr>\n",
       "      <th>public_meeting</th>\n",
       "      <td>56066</td>\n",
       "      <td>2</td>\n",
       "      <td>True</td>\n",
       "      <td>51011</td>\n",
       "    </tr>\n",
       "    <tr>\n",
       "      <th>permit</th>\n",
       "      <td>56344</td>\n",
       "      <td>2</td>\n",
       "      <td>True</td>\n",
       "      <td>38852</td>\n",
       "    </tr>\n",
       "    <tr>\n",
       "      <th>recorded_by</th>\n",
       "      <td>59400</td>\n",
       "      <td>1</td>\n",
       "      <td>GeoData Consultants Ltd</td>\n",
       "      <td>59400</td>\n",
       "    </tr>\n",
       "  </tbody>\n",
       "</table>\n",
       "</div>"
      ],
      "text/plain": [
       "                       count unique                      top   freq\n",
       "wpt_name               59398  37399                     none   3563\n",
       "subvillage             59029  19287                 Madukani    508\n",
       "scheme_name            30590   2695                        K    682\n",
       "installer              55742   2144                      DWE  17402\n",
       "ward                   59400   2092                    Igosi    307\n",
       "funder                 55763   1896   Government Of Tanzania   9084\n",
       "date_recorded          59400    356               2011-03-15    572\n",
       "lga                    59400    125                   Njombe   2503\n",
       "construction_year      59400     55                        0  20709\n",
       "region_code            59400     27                       11   5300\n",
       "region                 59400     21                   Iringa   5294\n",
       "district_code          59400     20                        1  12203\n",
       "extraction_type        59400     18                  gravity  26780\n",
       "extraction_type_group  59400     13                  gravity  26780\n",
       "management             59400     12                      vwc  40507\n",
       "scheme_management      55522     11                      VWC  36793\n",
       "source                 59400     10                   spring  17021\n",
       "basin                  59400      9            Lake Victoria  10248\n",
       "water_quality          59400      8                     soft  50818\n",
       "payment                59400      7                never pay  25348\n",
       "waterpoint_type        59400      7       communal standpipe  28522\n",
       "source_type            59400      7                   spring  17021\n",
       "payment_type           59400      7                never pay  25348\n",
       "extraction_type_class  59400      7                  gravity  26780\n",
       "quality_group          59400      6                     good  50818\n",
       "waterpoint_type_group  59400      6       communal standpipe  34625\n",
       "management_group       59400      5               user-group  52490\n",
       "quantity               59400      5                   enough  33186\n",
       "quantity_group         59400      5                   enough  33186\n",
       "source_class           59400      3              groundwater  45794\n",
       "status_group           59400      3               functional  32259\n",
       "public_meeting         56066      2                     True  51011\n",
       "permit                 56344      2                     True  38852\n",
       "recorded_by            59400      1  GeoData Consultants Ltd  59400"
      ]
     },
     "execution_count": 25,
     "metadata": {},
     "output_type": "execute_result"
    }
   ],
   "source": [
    "train.describe(include='category').T.sort_values(by='unique',ascending=False)"
   ]
  },
  {
   "cell_type": "code",
   "execution_count": 26,
   "metadata": {
    "ExecuteTime": {
     "end_time": "2018-12-13T10:25:49.729868Z",
     "start_time": "2018-12-13T10:25:49.631486Z"
    }
   },
   "outputs": [
    {
     "data": {
      "text/plain": [
       "array(['afridev', 'cemo', 'climax', 'gravity', 'india mark ii',\n",
       "       'india mark iii', 'ksb', 'mono', 'nira/tanira', 'other',\n",
       "       'other - mkulima/shinyanga', 'other - play pump',\n",
       "       'other - rope pump', 'other - swn 81', 'other handpump',\n",
       "       'other motorpump', 'rope pump', 'submersible', 'swn 80', 'walimi',\n",
       "       'wind-powered', 'windmill'], dtype=object)"
      ]
     },
     "execution_count": 26,
     "metadata": {},
     "output_type": "execute_result"
    }
   ],
   "source": [
    "np.unique(train[['extraction_type','extraction_type_group']].values)"
   ]
  },
  {
   "cell_type": "code",
   "execution_count": 27,
   "metadata": {
    "ExecuteTime": {
     "end_time": "2018-12-13T10:25:52.713100Z",
     "start_time": "2018-12-13T10:25:52.694613Z"
    }
   },
   "outputs": [
    {
     "data": {
      "text/plain": [
       "array(['gravity', 'submersible', 'swn 80', 'nira/tanira', 'india mark ii',\n",
       "       'other', 'ksb', 'mono', 'windmill', 'wind-powered', 'afridev',\n",
       "       'other - rope pump', 'rope pump', 'india mark iii',\n",
       "       'other - swn 81', 'other handpump', 'other - play pump', 'cemo',\n",
       "       'other motorpump', 'climax', 'walimi', 'other - mkulima/shinyanga'],\n",
       "      dtype=object)"
      ]
     },
     "execution_count": 27,
     "metadata": {},
     "output_type": "execute_result"
    }
   ],
   "source": [
    "pd.unique(train[['extraction_type','extraction_type_group']].values.ravel())"
   ]
  },
  {
   "cell_type": "code",
   "execution_count": 28,
   "metadata": {
    "ExecuteTime": {
     "end_time": "2018-12-13T10:25:55.711261Z",
     "start_time": "2018-12-13T10:25:55.703659Z"
    }
   },
   "outputs": [
    {
     "data": {
      "text/plain": [
       "Index(['amount_tsh', 'date_recorded', 'funder', 'gps_height', 'installer',\n",
       "       'longitude', 'latitude', 'wpt_name', 'num_private', 'basin',\n",
       "       'subvillage', 'region', 'region_code', 'district_code', 'lga', 'ward',\n",
       "       'population', 'public_meeting', 'recorded_by', 'scheme_management',\n",
       "       'scheme_name', 'permit', 'construction_year', 'extraction_type',\n",
       "       'extraction_type_group', 'extraction_type_class', 'management',\n",
       "       'management_group', 'payment', 'payment_type', 'water_quality',\n",
       "       'quality_group', 'quantity', 'quantity_group', 'source', 'source_type',\n",
       "       'source_class', 'waterpoint_type', 'waterpoint_type_group',\n",
       "       'status_group'],\n",
       "      dtype='object')"
      ]
     },
     "execution_count": 28,
     "metadata": {},
     "output_type": "execute_result"
    }
   ],
   "source": [
    "train.columns"
   ]
  },
  {
   "cell_type": "code",
   "execution_count": 29,
   "metadata": {
    "ExecuteTime": {
     "end_time": "2018-12-13T10:25:58.776948Z",
     "start_time": "2018-12-13T10:25:58.711130Z"
    }
   },
   "outputs": [
    {
     "data": {
      "text/html": [
       "<div>\n",
       "<style scoped>\n",
       "    .dataframe tbody tr th:only-of-type {\n",
       "        vertical-align: middle;\n",
       "    }\n",
       "\n",
       "    .dataframe tbody tr th {\n",
       "        vertical-align: top;\n",
       "    }\n",
       "\n",
       "    .dataframe thead th {\n",
       "        text-align: right;\n",
       "    }\n",
       "</style>\n",
       "<table border=\"1\" class=\"dataframe\">\n",
       "  <thead>\n",
       "    <tr style=\"text-align: right;\">\n",
       "      <th></th>\n",
       "      <th>amount_tsh</th>\n",
       "      <th>gps_height</th>\n",
       "      <th>longitude</th>\n",
       "      <th>latitude</th>\n",
       "      <th>num_private</th>\n",
       "      <th>population</th>\n",
       "    </tr>\n",
       "    <tr>\n",
       "      <th>status_group</th>\n",
       "      <th></th>\n",
       "      <th></th>\n",
       "      <th></th>\n",
       "      <th></th>\n",
       "      <th></th>\n",
       "      <th></th>\n",
       "    </tr>\n",
       "  </thead>\n",
       "  <tbody>\n",
       "    <tr>\n",
       "      <th>functional</th>\n",
       "      <td>461.80</td>\n",
       "      <td>740.13</td>\n",
       "      <td>34.24</td>\n",
       "      <td>-5.70</td>\n",
       "      <td>0.54</td>\n",
       "      <td>187.55</td>\n",
       "    </tr>\n",
       "    <tr>\n",
       "      <th>functional needs repair</th>\n",
       "      <td>267.07</td>\n",
       "      <td>627.61</td>\n",
       "      <td>31.24</td>\n",
       "      <td>-5.16</td>\n",
       "      <td>0.31</td>\n",
       "      <td>175.10</td>\n",
       "    </tr>\n",
       "    <tr>\n",
       "      <th>non functional</th>\n",
       "      <td>123.48</td>\n",
       "      <td>574.46</td>\n",
       "      <td>34.38</td>\n",
       "      <td>-5.81</td>\n",
       "      <td>0.41</td>\n",
       "      <td>170.02</td>\n",
       "    </tr>\n",
       "  </tbody>\n",
       "</table>\n",
       "</div>"
      ],
      "text/plain": [
       "                         amount_tsh  gps_height  longitude  latitude  \\\n",
       "status_group                                                           \n",
       "functional                   461.80      740.13      34.24     -5.70   \n",
       "functional needs repair      267.07      627.61      31.24     -5.16   \n",
       "non functional               123.48      574.46      34.38     -5.81   \n",
       "\n",
       "                         num_private  population  \n",
       "status_group                                      \n",
       "functional                      0.54      187.55  \n",
       "functional needs repair         0.31      175.10  \n",
       "non functional                  0.41      170.02  "
      ]
     },
     "execution_count": 29,
     "metadata": {},
     "output_type": "execute_result"
    }
   ],
   "source": [
    "train.groupby([\"status_group\"]).mean()"
   ]
  },
  {
   "cell_type": "code",
   "execution_count": 30,
   "metadata": {
    "ExecuteTime": {
     "end_time": "2018-12-13T10:26:02.024437Z",
     "start_time": "2018-12-13T10:26:01.781981Z"
    }
   },
   "outputs": [
    {
     "data": {
      "text/html": [
       "<div>\n",
       "<style scoped>\n",
       "    .dataframe tbody tr th:only-of-type {\n",
       "        vertical-align: middle;\n",
       "    }\n",
       "\n",
       "    .dataframe tbody tr th {\n",
       "        vertical-align: top;\n",
       "    }\n",
       "\n",
       "    .dataframe thead tr th {\n",
       "        text-align: left;\n",
       "    }\n",
       "\n",
       "    .dataframe thead tr:last-of-type th {\n",
       "        text-align: right;\n",
       "    }\n",
       "</style>\n",
       "<table border=\"1\" class=\"dataframe\">\n",
       "  <thead>\n",
       "    <tr>\n",
       "      <th></th>\n",
       "      <th colspan=\"4\" halign=\"left\">amount_tsh</th>\n",
       "      <th colspan=\"4\" halign=\"left\">gps_height</th>\n",
       "      <th colspan=\"2\" halign=\"left\">longitude</th>\n",
       "      <th>...</th>\n",
       "      <th colspan=\"2\" halign=\"left\">latitude</th>\n",
       "      <th colspan=\"4\" halign=\"left\">num_private</th>\n",
       "      <th colspan=\"4\" halign=\"left\">population</th>\n",
       "    </tr>\n",
       "    <tr>\n",
       "      <th></th>\n",
       "      <th>min</th>\n",
       "      <th>max</th>\n",
       "      <th>mean</th>\n",
       "      <th>count</th>\n",
       "      <th>min</th>\n",
       "      <th>max</th>\n",
       "      <th>mean</th>\n",
       "      <th>count</th>\n",
       "      <th>min</th>\n",
       "      <th>max</th>\n",
       "      <th>...</th>\n",
       "      <th>mean</th>\n",
       "      <th>count</th>\n",
       "      <th>min</th>\n",
       "      <th>max</th>\n",
       "      <th>mean</th>\n",
       "      <th>count</th>\n",
       "      <th>min</th>\n",
       "      <th>max</th>\n",
       "      <th>mean</th>\n",
       "      <th>count</th>\n",
       "    </tr>\n",
       "    <tr>\n",
       "      <th>status_group</th>\n",
       "      <th></th>\n",
       "      <th></th>\n",
       "      <th></th>\n",
       "      <th></th>\n",
       "      <th></th>\n",
       "      <th></th>\n",
       "      <th></th>\n",
       "      <th></th>\n",
       "      <th></th>\n",
       "      <th></th>\n",
       "      <th></th>\n",
       "      <th></th>\n",
       "      <th></th>\n",
       "      <th></th>\n",
       "      <th></th>\n",
       "      <th></th>\n",
       "      <th></th>\n",
       "      <th></th>\n",
       "      <th></th>\n",
       "      <th></th>\n",
       "      <th></th>\n",
       "    </tr>\n",
       "  </thead>\n",
       "  <tbody>\n",
       "    <tr>\n",
       "      <th>functional</th>\n",
       "      <td>0.00</td>\n",
       "      <td>350,000.00</td>\n",
       "      <td>461.80</td>\n",
       "      <td>32259</td>\n",
       "      <td>-90</td>\n",
       "      <td>2628</td>\n",
       "      <td>740.13</td>\n",
       "      <td>32259</td>\n",
       "      <td>0.00</td>\n",
       "      <td>40.35</td>\n",
       "      <td>...</td>\n",
       "      <td>-5.70</td>\n",
       "      <td>32259</td>\n",
       "      <td>0</td>\n",
       "      <td>1402</td>\n",
       "      <td>0.54</td>\n",
       "      <td>32259</td>\n",
       "      <td>0</td>\n",
       "      <td>30500</td>\n",
       "      <td>187.55</td>\n",
       "      <td>32259</td>\n",
       "    </tr>\n",
       "    <tr>\n",
       "      <th>functional needs repair</th>\n",
       "      <td>0.00</td>\n",
       "      <td>100,000.00</td>\n",
       "      <td>267.07</td>\n",
       "      <td>4317</td>\n",
       "      <td>-51</td>\n",
       "      <td>2770</td>\n",
       "      <td>627.61</td>\n",
       "      <td>4317</td>\n",
       "      <td>0.00</td>\n",
       "      <td>40.28</td>\n",
       "      <td>...</td>\n",
       "      <td>-5.16</td>\n",
       "      <td>4317</td>\n",
       "      <td>0</td>\n",
       "      <td>160</td>\n",
       "      <td>0.31</td>\n",
       "      <td>4317</td>\n",
       "      <td>0</td>\n",
       "      <td>15300</td>\n",
       "      <td>175.10</td>\n",
       "      <td>4317</td>\n",
       "    </tr>\n",
       "    <tr>\n",
       "      <th>non functional</th>\n",
       "      <td>0.00</td>\n",
       "      <td>117,000.00</td>\n",
       "      <td>123.48</td>\n",
       "      <td>22824</td>\n",
       "      <td>-59</td>\n",
       "      <td>2627</td>\n",
       "      <td>574.46</td>\n",
       "      <td>22824</td>\n",
       "      <td>0.00</td>\n",
       "      <td>40.34</td>\n",
       "      <td>...</td>\n",
       "      <td>-5.81</td>\n",
       "      <td>22824</td>\n",
       "      <td>0</td>\n",
       "      <td>1776</td>\n",
       "      <td>0.41</td>\n",
       "      <td>22824</td>\n",
       "      <td>0</td>\n",
       "      <td>9865</td>\n",
       "      <td>170.02</td>\n",
       "      <td>22824</td>\n",
       "    </tr>\n",
       "  </tbody>\n",
       "</table>\n",
       "<p>3 rows × 24 columns</p>\n",
       "</div>"
      ],
      "text/plain": [
       "                        amount_tsh                          gps_height        \\\n",
       "                               min        max   mean  count        min   max   \n",
       "status_group                                                                   \n",
       "functional                    0.00 350,000.00 461.80  32259        -90  2628   \n",
       "functional needs repair       0.00 100,000.00 267.07   4317        -51  2770   \n",
       "non functional                0.00 117,000.00 123.48  22824        -59  2627   \n",
       "\n",
       "                                      longitude        ...   latitude         \\\n",
       "                          mean  count       min   max  ...       mean  count   \n",
       "status_group                                           ...                     \n",
       "functional              740.13  32259      0.00 40.35  ...      -5.70  32259   \n",
       "functional needs repair 627.61   4317      0.00 40.28  ...      -5.16   4317   \n",
       "non functional          574.46  22824      0.00 40.34  ...      -5.81  22824   \n",
       "\n",
       "                        num_private                   population         \\\n",
       "                                min   max mean  count        min    max   \n",
       "status_group                                                              \n",
       "functional                        0  1402 0.54  32259          0  30500   \n",
       "functional needs repair           0   160 0.31   4317          0  15300   \n",
       "non functional                    0  1776 0.41  22824          0   9865   \n",
       "\n",
       "                                       \n",
       "                          mean  count  \n",
       "status_group                           \n",
       "functional              187.55  32259  \n",
       "functional needs repair 175.10   4317  \n",
       "non functional          170.02  22824  \n",
       "\n",
       "[3 rows x 24 columns]"
      ]
     },
     "execution_count": 30,
     "metadata": {},
     "output_type": "execute_result"
    }
   ],
   "source": [
    "train.groupby([\"status_group\"]).agg(['min','max','mean','count'])"
   ]
  },
  {
   "cell_type": "code",
   "execution_count": 31,
   "metadata": {
    "ExecuteTime": {
     "end_time": "2018-12-13T10:26:05.163005Z",
     "start_time": "2018-12-13T10:26:05.159869Z"
    }
   },
   "outputs": [],
   "source": [
    "#same as above. kept just for reference of syntax\n",
    "#train.groupby([\"status_group\"])['amount_tsh','gps_height','num_private','population'].agg(['min','max','mean','count'])"
   ]
  },
  {
   "cell_type": "code",
   "execution_count": 32,
   "metadata": {
    "ExecuteTime": {
     "end_time": "2018-12-13T10:26:08.253556Z",
     "start_time": "2018-12-13T10:26:08.218649Z"
    }
   },
   "outputs": [
    {
     "data": {
      "text/html": [
       "<div>\n",
       "<style scoped>\n",
       "    .dataframe tbody tr th:only-of-type {\n",
       "        vertical-align: middle;\n",
       "    }\n",
       "\n",
       "    .dataframe tbody tr th {\n",
       "        vertical-align: top;\n",
       "    }\n",
       "\n",
       "    .dataframe thead tr th {\n",
       "        text-align: left;\n",
       "    }\n",
       "\n",
       "    .dataframe thead tr:last-of-type th {\n",
       "        text-align: right;\n",
       "    }\n",
       "</style>\n",
       "<table border=\"1\" class=\"dataframe\">\n",
       "  <thead>\n",
       "    <tr>\n",
       "      <th></th>\n",
       "      <th colspan=\"10\" halign=\"left\">amount_tsh</th>\n",
       "    </tr>\n",
       "    <tr>\n",
       "      <th>source</th>\n",
       "      <th>dam</th>\n",
       "      <th>hand dtw</th>\n",
       "      <th>lake</th>\n",
       "      <th>machine dbh</th>\n",
       "      <th>other</th>\n",
       "      <th>rainwater harvesting</th>\n",
       "      <th>river</th>\n",
       "      <th>shallow well</th>\n",
       "      <th>spring</th>\n",
       "      <th>unknown</th>\n",
       "    </tr>\n",
       "    <tr>\n",
       "      <th>status_group</th>\n",
       "      <th></th>\n",
       "      <th></th>\n",
       "      <th></th>\n",
       "      <th></th>\n",
       "      <th></th>\n",
       "      <th></th>\n",
       "      <th></th>\n",
       "      <th></th>\n",
       "      <th></th>\n",
       "      <th></th>\n",
       "    </tr>\n",
       "  </thead>\n",
       "  <tbody>\n",
       "    <tr>\n",
       "      <th>functional</th>\n",
       "      <td>303.98</td>\n",
       "      <td>416.34</td>\n",
       "      <td>115.31</td>\n",
       "      <td>447.16</td>\n",
       "      <td>68.57</td>\n",
       "      <td>12.30</td>\n",
       "      <td>1,028.40</td>\n",
       "      <td>128.15</td>\n",
       "      <td>514.75</td>\n",
       "      <td>164.38</td>\n",
       "    </tr>\n",
       "    <tr>\n",
       "      <th>functional needs repair</th>\n",
       "      <td>58.54</td>\n",
       "      <td>1,152.94</td>\n",
       "      <td>4.17</td>\n",
       "      <td>621.75</td>\n",
       "      <td>20.00</td>\n",
       "      <td>6.37</td>\n",
       "      <td>412.20</td>\n",
       "      <td>70.72</td>\n",
       "      <td>197.58</td>\n",
       "      <td>375.00</td>\n",
       "    </tr>\n",
       "    <tr>\n",
       "      <th>non functional</th>\n",
       "      <td>5.37</td>\n",
       "      <td>257.89</td>\n",
       "      <td>161.79</td>\n",
       "      <td>138.05</td>\n",
       "      <td>40.82</td>\n",
       "      <td>10.35</td>\n",
       "      <td>248.73</td>\n",
       "      <td>50.28</td>\n",
       "      <td>154.90</td>\n",
       "      <td>12.33</td>\n",
       "    </tr>\n",
       "  </tbody>\n",
       "</table>\n",
       "</div>"
      ],
      "text/plain": [
       "                        amount_tsh                                    \\\n",
       "source                         dam hand dtw   lake machine dbh other   \n",
       "status_group                                                           \n",
       "functional                  303.98   416.34 115.31      447.16 68.57   \n",
       "functional needs repair      58.54 1,152.94   4.17      621.75 20.00   \n",
       "non functional                5.37   257.89 161.79      138.05 40.82   \n",
       "\n",
       "                                                                           \\\n",
       "source                  rainwater harvesting    river shallow well spring   \n",
       "status_group                                                                \n",
       "functional                             12.30 1,028.40       128.15 514.75   \n",
       "functional needs repair                 6.37   412.20        70.72 197.58   \n",
       "non functional                         10.35   248.73        50.28 154.90   \n",
       "\n",
       "                                 \n",
       "source                  unknown  \n",
       "status_group                     \n",
       "functional               164.38  \n",
       "functional needs repair  375.00  \n",
       "non functional            12.33  "
      ]
     },
     "execution_count": 32,
     "metadata": {},
     "output_type": "execute_result"
    }
   ],
   "source": [
    "pd.pivot_table(data=train,index='status_group',columns=['source'],values=['amount_tsh'])"
   ]
  },
  {
   "cell_type": "markdown",
   "metadata": {},
   "source": [
    "#### dams,river,shallowwell,spring which have more water are functional \n",
    "#### handdtw,machinedbh,unknown source have more water but most of them need to be repaired\n",
    "#### lakes have more water but are not functional "
   ]
  },
  {
   "cell_type": "code",
   "execution_count": 33,
   "metadata": {
    "ExecuteTime": {
     "end_time": "2018-12-13T10:26:17.028597Z",
     "start_time": "2018-12-13T10:26:16.953424Z"
    }
   },
   "outputs": [
    {
     "data": {
      "text/html": [
       "<div>\n",
       "<style scoped>\n",
       "    .dataframe tbody tr th:only-of-type {\n",
       "        vertical-align: middle;\n",
       "    }\n",
       "\n",
       "    .dataframe tbody tr th {\n",
       "        vertical-align: top;\n",
       "    }\n",
       "\n",
       "    .dataframe thead tr th {\n",
       "        text-align: left;\n",
       "    }\n",
       "\n",
       "    .dataframe thead tr:last-of-type th {\n",
       "        text-align: right;\n",
       "    }\n",
       "</style>\n",
       "<table border=\"1\" class=\"dataframe\">\n",
       "  <thead>\n",
       "    <tr>\n",
       "      <th></th>\n",
       "      <th colspan=\"10\" halign=\"left\">population</th>\n",
       "    </tr>\n",
       "    <tr>\n",
       "      <th>source</th>\n",
       "      <th>dam</th>\n",
       "      <th>hand dtw</th>\n",
       "      <th>lake</th>\n",
       "      <th>machine dbh</th>\n",
       "      <th>other</th>\n",
       "      <th>rainwater harvesting</th>\n",
       "      <th>river</th>\n",
       "      <th>shallow well</th>\n",
       "      <th>spring</th>\n",
       "      <th>unknown</th>\n",
       "    </tr>\n",
       "    <tr>\n",
       "      <th>status_group</th>\n",
       "      <th></th>\n",
       "      <th></th>\n",
       "      <th></th>\n",
       "      <th></th>\n",
       "      <th></th>\n",
       "      <th></th>\n",
       "      <th></th>\n",
       "      <th></th>\n",
       "      <th></th>\n",
       "      <th></th>\n",
       "    </tr>\n",
       "  </thead>\n",
       "  <tbody>\n",
       "    <tr>\n",
       "      <th>functional</th>\n",
       "      <td>107143</td>\n",
       "      <td>49773</td>\n",
       "      <td>35058</td>\n",
       "      <td>1604910</td>\n",
       "      <td>17018</td>\n",
       "      <td>290376</td>\n",
       "      <td>1120729</td>\n",
       "      <td>1493024</td>\n",
       "      <td>1325069</td>\n",
       "      <td>7182</td>\n",
       "    </tr>\n",
       "    <tr>\n",
       "      <th>functional needs repair</th>\n",
       "      <td>11349</td>\n",
       "      <td>4489</td>\n",
       "      <td>7101</td>\n",
       "      <td>134342</td>\n",
       "      <td>150</td>\n",
       "      <td>47749</td>\n",
       "      <td>270680</td>\n",
       "      <td>111790</td>\n",
       "      <td>167576</td>\n",
       "      <td>690</td>\n",
       "    </tr>\n",
       "    <tr>\n",
       "      <th>non functional</th>\n",
       "      <td>56926</td>\n",
       "      <td>49861</td>\n",
       "      <td>161315</td>\n",
       "      <td>1063524</td>\n",
       "      <td>9713</td>\n",
       "      <td>147909</td>\n",
       "      <td>563374</td>\n",
       "      <td>1369448</td>\n",
       "      <td>442678</td>\n",
       "      <td>15707</td>\n",
       "    </tr>\n",
       "  </tbody>\n",
       "</table>\n",
       "</div>"
      ],
      "text/plain": [
       "                        population                                      \\\n",
       "source                         dam hand dtw    lake machine dbh  other   \n",
       "status_group                                                             \n",
       "functional                  107143    49773   35058     1604910  17018   \n",
       "functional needs repair      11349     4489    7101      134342    150   \n",
       "non functional               56926    49861  161315     1063524   9713   \n",
       "\n",
       "                                                                             \\\n",
       "source                  rainwater harvesting    river shallow well   spring   \n",
       "status_group                                                                  \n",
       "functional                            290376  1120729      1493024  1325069   \n",
       "functional needs repair                47749   270680       111790   167576   \n",
       "non functional                        147909   563374      1369448   442678   \n",
       "\n",
       "                                 \n",
       "source                  unknown  \n",
       "status_group                     \n",
       "functional                 7182  \n",
       "functional needs repair     690  \n",
       "non functional            15707  "
      ]
     },
     "execution_count": 33,
     "metadata": {},
     "output_type": "execute_result"
    }
   ],
   "source": [
    "pd.pivot_table(data=train,index='status_group',columns=['source'],values=['population'],aggfunc=np.sum)"
   ]
  },
  {
   "cell_type": "markdown",
   "metadata": {},
   "source": [
    "#### dams,machine dbh,rainwater harvesting, river,shallow well,spring which have more population are functional \n",
    "#### lake,unknown sources which  have more population are non-functional"
   ]
  },
  {
   "cell_type": "markdown",
   "metadata": {},
   "source": [
    "### Preprocessing"
   ]
  },
  {
   "cell_type": "code",
   "execution_count": 34,
   "metadata": {
    "ExecuteTime": {
     "end_time": "2018-12-13T10:26:21.163815Z",
     "start_time": "2018-12-13T10:26:21.158663Z"
    }
   },
   "outputs": [],
   "source": [
    "rand_num = 3423"
   ]
  },
  {
   "cell_type": "code",
   "execution_count": 35,
   "metadata": {
    "ExecuteTime": {
     "end_time": "2018-12-13T10:26:24.283950Z",
     "start_time": "2018-12-13T10:26:24.275775Z"
    }
   },
   "outputs": [],
   "source": [
    "target_var = 'status_group'\n",
    "y = train[target_var]\n",
    "X = train.drop(target_var, axis=1)"
   ]
  },
  {
   "cell_type": "code",
   "execution_count": 36,
   "metadata": {
    "ExecuteTime": {
     "end_time": "2018-12-13T10:26:29.462166Z",
     "start_time": "2018-12-13T10:26:29.423147Z"
    }
   },
   "outputs": [],
   "source": [
    "X_train, X_test, y_train, y_test = train_test_split(\n",
    "    X, y, test_size=0.3, random_state=rand_num)"
   ]
  },
  {
   "cell_type": "code",
   "execution_count": 37,
   "metadata": {
    "ExecuteTime": {
     "end_time": "2018-12-13T10:26:38.763028Z",
     "start_time": "2018-12-13T10:26:38.758944Z"
    }
   },
   "outputs": [],
   "source": [
    "del train\n",
    "del X\n",
    "del y"
   ]
  },
  {
   "cell_type": "code",
   "execution_count": 38,
   "metadata": {
    "ExecuteTime": {
     "end_time": "2018-12-13T10:26:44.039738Z",
     "start_time": "2018-12-13T10:26:44.034708Z"
    }
   },
   "outputs": [
    {
     "name": "stdout",
     "output_type": "stream",
     "text": [
      "(41580, 39)\n",
      "(17820, 39)\n"
     ]
    }
   ],
   "source": [
    "print(X_train.shape)\n",
    "print(X_test.shape)"
   ]
  },
  {
   "cell_type": "code",
   "execution_count": 39,
   "metadata": {
    "ExecuteTime": {
     "end_time": "2018-12-13T10:26:49.340286Z",
     "start_time": "2018-12-13T10:26:49.208836Z"
    }
   },
   "outputs": [],
   "source": [
    "cols_to_drop = ['longitude','latitude','recorded_by','scheme_name','ward',\n",
    "                'subvillage','wpt_name','date_recorded','funder','installer',\n",
    "                'lga','construction_year','region_code','district_code',\n",
    "               'management','scheme_management','extraction_type',\n",
    "                'extraction_type_group','region',\n",
    "               'quantity_group','source_type','source_class','payment_type',\n",
    "               'quantity_group','waterpoint_type','water_quality']\n",
    "\n",
    "dropCols(X_train,cols_to_drop)\n",
    "dropCols(X_test,cols_to_drop)\n",
    "dropCols(test,cols_to_drop)"
   ]
  },
  {
   "cell_type": "code",
   "execution_count": 40,
   "metadata": {
    "ExecuteTime": {
     "end_time": "2018-12-13T10:26:51.174407Z",
     "start_time": "2018-12-13T10:26:50.992654Z"
    }
   },
   "outputs": [
    {
     "name": "stdout",
     "output_type": "stream",
     "text": [
      "                count   mean      std    min  25%    50%      75%        max\n",
      "amount_tsh  41,580.00 305.92 2,641.65   0.00 0.00   0.00    20.00 350,000.00\n",
      "gps_height  41,580.00 670.28   693.51 -63.00 0.00 374.00 1,320.00   2,770.00\n",
      "num_private 41,580.00   0.54    14.26   0.00 0.00   0.00     0.00   1,776.00\n",
      "population  41,580.00 179.81   483.43   0.00 0.00  25.00   210.00  30,500.00\n",
      "                       count unique                 top   freq\n",
      "basin                  41580      9       Lake Victoria   7177\n",
      "public_meeting         39255      2                True  35755\n",
      "permit                 39399      2                True  27182\n",
      "extraction_type_class  41580      7             gravity  18719\n",
      "management_group       41580      5          user-group  36751\n",
      "payment                41580      7           never pay  17766\n",
      "quality_group          41580      6                good  35551\n",
      "quantity               41580      5              enough  23239\n",
      "source                 41580     10              spring  11917\n",
      "waterpoint_type_group  41580      6  communal standpipe  24230\n"
     ]
    }
   ],
   "source": [
    "print(X_train.describe().T)\n",
    "print(X_train.describe(include=['category']).T)"
   ]
  },
  {
   "cell_type": "code",
   "execution_count": 41,
   "metadata": {
    "ExecuteTime": {
     "end_time": "2018-12-13T10:26:53.036165Z",
     "start_time": "2018-12-13T10:26:53.031432Z"
    }
   },
   "outputs": [
    {
     "data": {
      "text/plain": [
       "CategoricalDtype(categories=['dam', 'hand dtw', 'lake', 'machine dbh', 'other',\n",
       "                  'rainwater harvesting', 'river', 'shallow well', 'spring',\n",
       "                  'unknown'],\n",
       "                 ordered=False)"
      ]
     },
     "execution_count": 41,
     "metadata": {},
     "output_type": "execute_result"
    }
   ],
   "source": [
    "X_train['source'].dtype"
   ]
  },
  {
   "cell_type": "code",
   "execution_count": 42,
   "metadata": {
    "ExecuteTime": {
     "end_time": "2018-12-13T10:26:54.740906Z",
     "start_time": "2018-12-13T10:26:54.715786Z"
    }
   },
   "outputs": [
    {
     "name": "stdout",
     "output_type": "stream",
     "text": [
      "['spring' 'shallow well' 'river' 'machine dbh' 'rainwater harvesting'\n",
      " 'lake' 'other' 'hand dtw' 'dam']\n"
     ]
    }
   ],
   "source": [
    "X_train['source'] = X_train['source'].str.replace('unknown','other')\n",
    "X_test['source'] = X_test['source'].str.replace('unknown','other')\n",
    "test['source'] = test['source'].str.replace('unknown','other')\n",
    "print(X_train.source.unique())\n"
   ]
  },
  {
   "cell_type": "code",
   "execution_count": 43,
   "metadata": {
    "ExecuteTime": {
     "end_time": "2018-12-13T10:27:00.849741Z",
     "start_time": "2018-12-13T10:27:00.822030Z"
    }
   },
   "outputs": [
    {
     "name": "stdout",
     "output_type": "stream",
     "text": [
      "['user-group' 'commercial' 'other' 'parastatal']\n"
     ]
    }
   ],
   "source": [
    "X_train['management_group'] = X_train['management_group'].str.replace('unknown','other')\n",
    "X_test['management_group'] = X_test['management_group'].str.replace('unknown','other')\n",
    "test['management_group'] = test['management_group'].str.replace('unknown','other')\n",
    "print(X_train.management_group.unique())"
   ]
  },
  {
   "cell_type": "code",
   "execution_count": 44,
   "metadata": {
    "ExecuteTime": {
     "end_time": "2018-12-13T10:27:02.784552Z",
     "start_time": "2018-12-13T10:27:02.758261Z"
    }
   },
   "outputs": [
    {
     "name": "stdout",
     "output_type": "stream",
     "text": [
      "['never pay' 'pay per bucket' 'pay when scheme fails' 'other'\n",
      " 'pay monthly' 'pay annually']\n"
     ]
    }
   ],
   "source": [
    "X_train['payment'] = X_train['payment'].str.replace('unknown','other')\n",
    "X_test['payment'] = X_test['payment'].str.replace('unknown','other')\n",
    "test['payment'] = test['payment'].str.replace('unknown','other')\n",
    "print(X_train.payment.unique())"
   ]
  },
  {
   "cell_type": "code",
   "execution_count": 45,
   "metadata": {
    "ExecuteTime": {
     "end_time": "2018-12-13T10:27:04.514312Z",
     "start_time": "2018-12-13T10:27:04.482316Z"
    }
   },
   "outputs": [
    {
     "name": "stdout",
     "output_type": "stream",
     "text": [
      "Index(['management_group', 'payment', 'source'], dtype='object')\n",
      "<class 'pandas.core.frame.DataFrame'>\n",
      "Int64Index: 41580 entries, 52775 to 30287\n",
      "Data columns (total 14 columns):\n",
      "amount_tsh               41580 non-null float64\n",
      "gps_height               41580 non-null int64\n",
      "num_private              41580 non-null int64\n",
      "basin                    41580 non-null category\n",
      "population               41580 non-null int64\n",
      "public_meeting           39255 non-null category\n",
      "permit                   39399 non-null category\n",
      "extraction_type_class    41580 non-null category\n",
      "management_group         41580 non-null object\n",
      "payment                  41580 non-null object\n",
      "quality_group            41580 non-null category\n",
      "quantity                 41580 non-null category\n",
      "source                   41580 non-null object\n",
      "waterpoint_type_group    41580 non-null category\n",
      "dtypes: category(7), float64(1), int64(3), object(3)\n",
      "memory usage: 2.8+ MB\n",
      "None\n"
     ]
    }
   ],
   "source": [
    "new_cat_var = X_train.dtypes[X_train.dtypes == 'object'].index\n",
    "print(new_cat_var)\n",
    "print(X_train.info())"
   ]
  },
  {
   "cell_type": "code",
   "execution_count": 46,
   "metadata": {
    "ExecuteTime": {
     "end_time": "2018-12-13T10:27:06.396308Z",
     "start_time": "2018-12-13T10:27:06.316715Z"
    }
   },
   "outputs": [],
   "source": [
    "X_train[new_cat_var] = X_train[new_cat_var].apply(lambda x: x.astype('category'))\n",
    "X_test[new_cat_var] = X_test[new_cat_var].apply(lambda x: x.astype('category'))\n",
    "test[new_cat_var] = test[new_cat_var].apply(lambda x: x.astype('category'))"
   ]
  },
  {
   "cell_type": "markdown",
   "metadata": {},
   "source": [
    "#### Imputation"
   ]
  },
  {
   "cell_type": "code",
   "execution_count": 47,
   "metadata": {
    "ExecuteTime": {
     "end_time": "2018-12-13T10:27:08.226801Z",
     "start_time": "2018-12-13T10:27:08.214124Z"
    }
   },
   "outputs": [
    {
     "name": "stdout",
     "output_type": "stream",
     "text": [
      "<class 'pandas.core.frame.DataFrame'>\n",
      "Int64Index: 41580 entries, 52775 to 30287\n",
      "Data columns (total 2 columns):\n",
      "public_meeting    39255 non-null category\n",
      "permit            39399 non-null category\n",
      "dtypes: category(2)\n",
      "memory usage: 406.2 KB\n"
     ]
    }
   ],
   "source": [
    "X_train[['public_meeting','permit']].info()"
   ]
  },
  {
   "cell_type": "code",
   "execution_count": 48,
   "metadata": {
    "ExecuteTime": {
     "end_time": "2018-12-13T10:27:10.505886Z",
     "start_time": "2018-12-13T10:27:10.488201Z"
    }
   },
   "outputs": [],
   "source": [
    "X_train['public_meeting'].fillna(X_train['public_meeting'].value_counts().index[0],inplace=True)\n",
    "X_test['public_meeting'].fillna(X_test['public_meeting'].value_counts().index[0],inplace=True)\n",
    "test['public_meeting'].fillna(test['public_meeting'].value_counts().index[0],inplace=True)"
   ]
  },
  {
   "cell_type": "code",
   "execution_count": 49,
   "metadata": {
    "ExecuteTime": {
     "end_time": "2018-12-13T10:27:14.964416Z",
     "start_time": "2018-12-13T10:27:14.931760Z"
    }
   },
   "outputs": [
    {
     "name": "stdout",
     "output_type": "stream",
     "text": [
      "amount_tsh               0\n",
      "gps_height               0\n",
      "num_private              0\n",
      "basin                    0\n",
      "population               0\n",
      "public_meeting           0\n",
      "permit                   0\n",
      "extraction_type_class    0\n",
      "management_group         0\n",
      "payment                  0\n",
      "quality_group            0\n",
      "quantity                 0\n",
      "source                   0\n",
      "waterpoint_type_group    0\n",
      "dtype: int64\n"
     ]
    }
   ],
   "source": [
    "X_train['permit'].fillna(X_train['permit'].value_counts().index[0],inplace=True)\n",
    "X_test['permit'].fillna(X_test['permit'].value_counts().index[0],inplace=True)\n",
    "test['permit'].fillna(test['permit'].value_counts().index[0],inplace=True)\n",
    "print(X_train.isna().sum())"
   ]
  },
  {
   "cell_type": "markdown",
   "metadata": {},
   "source": [
    "#### Standardize the numerical variables"
   ]
  },
  {
   "cell_type": "code",
   "execution_count": 50,
   "metadata": {
    "ExecuteTime": {
     "end_time": "2018-12-13T10:27:18.033353Z",
     "start_time": "2018-12-13T10:27:18.024812Z"
    }
   },
   "outputs": [],
   "source": [
    "new_num_var = X_train.dtypes[X_train.dtypes != 'category'].index\n",
    "new_cat_var = X_train.dtypes[X_train.dtypes == 'category'].index"
   ]
  },
  {
   "cell_type": "code",
   "execution_count": 51,
   "metadata": {
    "ExecuteTime": {
     "end_time": "2018-12-13T10:27:19.922134Z",
     "start_time": "2018-12-13T10:27:19.902423Z"
    }
   },
   "outputs": [
    {
     "name": "stdout",
     "output_type": "stream",
     "text": [
      "<class 'pandas.core.frame.DataFrame'>\n",
      "Int64Index: 41580 entries, 52775 to 30287\n",
      "Data columns (total 4 columns):\n",
      "amount_tsh     41580 non-null float64\n",
      "gps_height     41580 non-null int64\n",
      "num_private    41580 non-null int64\n",
      "population     41580 non-null int64\n",
      "dtypes: float64(1), int64(3)\n",
      "memory usage: 1.6 MB\n",
      "None\n"
     ]
    }
   ],
   "source": [
    "print(X_train[new_num_var].info())"
   ]
  },
  {
   "cell_type": "code",
   "execution_count": 52,
   "metadata": {
    "ExecuteTime": {
     "end_time": "2018-12-13T10:27:22.103634Z",
     "start_time": "2018-12-13T10:27:21.789997Z"
    }
   },
   "outputs": [
    {
     "name": "stdout",
     "output_type": "stream",
     "text": [
      "       amount_tsh  gps_height  num_private  population\n",
      "count   41,580.00   41,580.00    41,580.00   41,580.00\n",
      "mean        -0.00        0.00         0.00        0.00\n",
      "std          1.00        1.00         1.00        1.00\n",
      "min         -0.12       -1.06        -0.04       -0.37\n",
      "25%         -0.12       -0.97        -0.04       -0.37\n",
      "50%         -0.12       -0.43        -0.04       -0.32\n",
      "75%         -0.11        0.94        -0.04        0.06\n",
      "max        132.38        3.03       124.53       62.72\n"
     ]
    }
   ],
   "source": [
    "scaler = StandardScaler()\n",
    "X_train[new_num_var] = scaler.fit_transform(X_train[new_num_var])\n",
    "X_test[new_num_var] = scaler.transform(X_test[new_num_var])\n",
    "test[new_num_var] = scaler.transform(test[new_num_var])\n",
    "print(X_train[new_num_var].describe())"
   ]
  },
  {
   "cell_type": "markdown",
   "metadata": {},
   "source": [
    "#### Dummy code Categorical variables"
   ]
  },
  {
   "cell_type": "code",
   "execution_count": 53,
   "metadata": {
    "ExecuteTime": {
     "end_time": "2018-12-13T10:27:27.323376Z",
     "start_time": "2018-12-13T10:27:27.237975Z"
    }
   },
   "outputs": [],
   "source": [
    "#X_train = pd.get_dummies(X_train,drop_first=True,prefix='d',prefix_sep='_')\n",
    "X_train = pd.get_dummies(X_train,drop_first=True)\n",
    "X_test = pd.get_dummies(X_test,drop_first=True)\n",
    "test = pd.get_dummies(test,drop_first=True)"
   ]
  },
  {
   "cell_type": "code",
   "execution_count": 54,
   "metadata": {
    "ExecuteTime": {
     "end_time": "2018-12-13T10:27:29.863649Z",
     "start_time": "2018-12-13T10:27:29.786134Z"
    }
   },
   "outputs": [
    {
     "name": "stdout",
     "output_type": "stream",
     "text": [
      "<class 'pandas.core.frame.DataFrame'>\n",
      "Int64Index: 41580 entries, 52775 to 30287\n",
      "Data columns (total 50 columns):\n",
      "amount_tsh                                  41580 non-null float64\n",
      "gps_height                                  41580 non-null float64\n",
      "num_private                                 41580 non-null float64\n",
      "population                                  41580 non-null float64\n",
      "basin_Lake Nyasa                            41580 non-null uint8\n",
      "basin_Lake Rukwa                            41580 non-null uint8\n",
      "basin_Lake Tanganyika                       41580 non-null uint8\n",
      "basin_Lake Victoria                         41580 non-null uint8\n",
      "basin_Pangani                               41580 non-null uint8\n",
      "basin_Rufiji                                41580 non-null uint8\n",
      "basin_Ruvuma / Southern Coast               41580 non-null uint8\n",
      "basin_Wami / Ruvu                           41580 non-null uint8\n",
      "public_meeting_True                         41580 non-null uint8\n",
      "permit_True                                 41580 non-null uint8\n",
      "extraction_type_class_handpump              41580 non-null uint8\n",
      "extraction_type_class_motorpump             41580 non-null uint8\n",
      "extraction_type_class_other                 41580 non-null uint8\n",
      "extraction_type_class_rope pump             41580 non-null uint8\n",
      "extraction_type_class_submersible           41580 non-null uint8\n",
      "extraction_type_class_wind-powered          41580 non-null uint8\n",
      "management_group_other                      41580 non-null uint8\n",
      "management_group_parastatal                 41580 non-null uint8\n",
      "management_group_user-group                 41580 non-null uint8\n",
      "payment_other                               41580 non-null uint8\n",
      "payment_pay annually                        41580 non-null uint8\n",
      "payment_pay monthly                         41580 non-null uint8\n",
      "payment_pay per bucket                      41580 non-null uint8\n",
      "payment_pay when scheme fails               41580 non-null uint8\n",
      "quality_group_fluoride                      41580 non-null uint8\n",
      "quality_group_good                          41580 non-null uint8\n",
      "quality_group_milky                         41580 non-null uint8\n",
      "quality_group_salty                         41580 non-null uint8\n",
      "quality_group_unknown                       41580 non-null uint8\n",
      "quantity_enough                             41580 non-null uint8\n",
      "quantity_insufficient                       41580 non-null uint8\n",
      "quantity_seasonal                           41580 non-null uint8\n",
      "quantity_unknown                            41580 non-null uint8\n",
      "source_hand dtw                             41580 non-null uint8\n",
      "source_lake                                 41580 non-null uint8\n",
      "source_machine dbh                          41580 non-null uint8\n",
      "source_other                                41580 non-null uint8\n",
      "source_rainwater harvesting                 41580 non-null uint8\n",
      "source_river                                41580 non-null uint8\n",
      "source_shallow well                         41580 non-null uint8\n",
      "source_spring                               41580 non-null uint8\n",
      "waterpoint_type_group_communal standpipe    41580 non-null uint8\n",
      "waterpoint_type_group_dam                   41580 non-null uint8\n",
      "waterpoint_type_group_hand pump             41580 non-null uint8\n",
      "waterpoint_type_group_improved spring       41580 non-null uint8\n",
      "waterpoint_type_group_other                 41580 non-null uint8\n",
      "dtypes: float64(4), uint8(46)\n",
      "memory usage: 3.4 MB\n"
     ]
    }
   ],
   "source": [
    "X_train.info()"
   ]
  },
  {
   "cell_type": "markdown",
   "metadata": {},
   "source": [
    "#### Build Models"
   ]
  },
  {
   "cell_type": "code",
   "execution_count": 55,
   "metadata": {
    "ExecuteTime": {
     "end_time": "2018-12-13T10:27:32.630931Z",
     "start_time": "2018-12-13T10:27:32.624584Z"
    }
   },
   "outputs": [],
   "source": [
    "metric = 'accuracy'\n",
    "models = []\n",
    "model_names = []\n",
    "scores = []\n",
    "train_preds = None\n",
    "val_preds = None"
   ]
  },
  {
   "cell_type": "code",
   "execution_count": 56,
   "metadata": {
    "ExecuteTime": {
     "end_time": "2018-12-13T10:27:34.217330Z",
     "start_time": "2018-12-13T10:27:34.145507Z"
    }
   },
   "outputs": [],
   "source": [
    "#main method to fit a model,do predictions and print metrics\n",
    "def predictModelMetrics(model,model_name):\n",
    "    train_preds,val_preds = resetVar()\n",
    "    train_preds,val_preds = doPredict(model,model_name)\n",
    "    printMetrics(model,train_preds,val_preds)\n",
    "\n",
    "#reset prediction variables before running next model\n",
    "def resetVar():\n",
    "    train_preds = None\n",
    "    val_preds = None\n",
    "    return train_preds,val_preds\n",
    "\n",
    "#make predictions\n",
    "def doPredict(model,model_name):\n",
    "    model.fit(X_train,y_train)\n",
    "    train_preds = model.predict(X_train)\n",
    "    val_preds = model.predict(X_test)\n",
    "    models.append(model_name)\n",
    "    return train_preds,val_preds\n",
    "\n",
    "#prints and captures metrics\n",
    "def printMetrics(model,train_preds,val_preds):\n",
    "    print(\"Train Accuracy: %.2f\"%accuracy_score(y_train,train_preds))\n",
    "    \n",
    "    #k-fold with k=5\n",
    "    val_scores = cross_val_score(model,X_test,y_test, cv=5, scoring=metric)\n",
    "    cv_score = val_scores.mean()\n",
    "    print(\"Cross Validation Accuracy: %.2f\" %cv_score)\n",
    "    \n",
    "    print(\"-------------------------------------\")\n",
    "    print(\"Confusion Matrix:\")\n",
    "    print(pd.crosstab(y_test,val_preds,rownames=['Actual'],colnames=['Predicted'],margins=True))\n",
    "    #print(classification_report(y_val,val_preds))\n",
    "    scores.append(round(cv_score,2))\n",
    "    \n",
    "    #print summary of model accuracies\n",
    "def summarizeResults():\n",
    "    results = pd.DataFrame({\"Model\":models, \"Score\":scores})\n",
    "    print(results)\n",
    "    \n",
    "def loadModel(model_name):\n",
    "    try:\n",
    "        model = load(models_path + model_name + \".joblib\")\n",
    "        return model\n",
    "    except:\n",
    "        return None\n",
    "    \n",
    "def saveModel(model,model_name):\n",
    "    dump(model,models_path + modelName + \".joblib\")"
   ]
  },
  {
   "cell_type": "code",
   "execution_count": 57,
   "metadata": {
    "ExecuteTime": {
     "end_time": "2018-12-13T10:27:40.432956Z",
     "start_time": "2018-12-13T10:27:35.630218Z"
    }
   },
   "outputs": [
    {
     "name": "stdout",
     "output_type": "stream",
     "text": [
      "Train Accuracy: 0.72\n",
      "Cross Validation Accuracy: 0.72\n",
      "-------------------------------------\n",
      "Confusion Matrix:\n",
      "Predicted                functional  functional needs repair  non functional  \\\n",
      "Actual                                                                         \n",
      "functional                     8893                        5             767   \n",
      "functional needs repair        1096                        0             212   \n",
      "non functional                 2880                        0            3967   \n",
      "All                           12869                        5            4946   \n",
      "\n",
      "Predicted                  All  \n",
      "Actual                          \n",
      "functional                9665  \n",
      "functional needs repair   1308  \n",
      "non functional            6847  \n",
      "All                      17820  \n"
     ]
    }
   ],
   "source": [
    "modelName = \"LogisticRegression\"\n",
    "lr = LogisticRegression(multi_class='ovr')\n",
    "predictModelMetrics(lr,modelName)"
   ]
  },
  {
   "cell_type": "code",
   "execution_count": 58,
   "metadata": {
    "ExecuteTime": {
     "end_time": "2018-12-13T10:28:16.143450Z",
     "start_time": "2018-12-13T10:27:42.014057Z"
    }
   },
   "outputs": [
    {
     "name": "stdout",
     "output_type": "stream",
     "text": [
      "Train Accuracy: 0.72\n",
      "Cross Validation Accuracy: 0.72\n",
      "-------------------------------------\n",
      "Confusion Matrix:\n",
      "Predicted                functional  non functional    All\n",
      "Actual                                                    \n",
      "functional                     8994             671   9665\n",
      "functional needs repair        1121             187   1308\n",
      "non functional                 3017            3830   6847\n",
      "All                           13132            4688  17820\n"
     ]
    }
   ],
   "source": [
    "modelName = \"LinearSVC\"\n",
    "svc = LinearSVC(C=0.01)\n",
    "predictModelMetrics(svc,modelName)"
   ]
  },
  {
   "cell_type": "code",
   "execution_count": 59,
   "metadata": {
    "ExecuteTime": {
     "end_time": "2018-12-13T10:48:25.638388Z",
     "start_time": "2018-12-13T10:28:17.681044Z"
    }
   },
   "outputs": [],
   "source": [
    "acc_scores = []\n",
    "rng = range(2,20)\n",
    "for i in rng:\n",
    "    knn = KNeighborsClassifier(i)\n",
    "    knn.fit(X_train,y_train)\n",
    "    t_preds = knn.predict(X_train)\n",
    "    acc_scores.append(accuracy_score(y_train,t_preds))"
   ]
  },
  {
   "cell_type": "code",
   "execution_count": 60,
   "metadata": {
    "ExecuteTime": {
     "end_time": "2018-12-13T10:48:27.466995Z",
     "start_time": "2018-12-13T10:48:27.059950Z"
    }
   },
   "outputs": [
    {
     "data": {
      "image/png": "[encoded data removed]",
      "text/plain": [
       "<Figure size 864x432 with 1 Axes>"
      ]
     },
     "metadata": {},
     "output_type": "display_data"
    }
   ],
   "source": [
    "plt.figure(figsize=(12,6))\n",
    "plt.plot(rng,acc_scores,marker=\"o\")\n",
    "plt.xlabel(\"N\")\n",
    "plt.ylabel(\"Accuracy Score\")\n",
    "plt.suptitle(\"N vs Accuracy Score\")\n",
    "plt.show()"
   ]
  },
  {
   "cell_type": "code",
   "execution_count": 61,
   "metadata": {
    "ExecuteTime": {
     "end_time": "2018-12-13T10:49:33.323159Z",
     "start_time": "2018-12-13T10:48:28.902832Z"
    }
   },
   "outputs": [
    {
     "name": "stdout",
     "output_type": "stream",
     "text": [
      "Train Accuracy: 0.83\n",
      "Cross Validation Accuracy: 0.71\n",
      "-------------------------------------\n",
      "Confusion Matrix:\n",
      "Predicted                functional  functional needs repair  non functional  \\\n",
      "Actual                                                                         \n",
      "functional                     8693                      322             650   \n",
      "functional needs repair         894                      281             133   \n",
      "non functional                 2444                      270            4133   \n",
      "All                           12031                      873            4916   \n",
      "\n",
      "Predicted                  All  \n",
      "Actual                          \n",
      "functional                9665  \n",
      "functional needs repair   1308  \n",
      "non functional            6847  \n",
      "All                      17820  \n"
     ]
    }
   ],
   "source": [
    "modelName = \"KNN5\"\n",
    "knn = KNeighborsClassifier(n_neighbors=2)\n",
    "predictModelMetrics(knn,modelName)"
   ]
  },
  {
   "cell_type": "code",
   "execution_count": 62,
   "metadata": {
    "ExecuteTime": {
     "end_time": "2018-12-13T10:50:35.365273Z",
     "start_time": "2018-12-13T10:49:34.753751Z"
    }
   },
   "outputs": [
    {
     "name": "stdout",
     "output_type": "stream",
     "text": [
      "Train Accuracy: 0.81\n",
      "Cross Validation Accuracy: 0.76\n",
      "-------------------------------------\n",
      "Confusion Matrix:\n",
      "Predicted                functional  functional needs repair  non functional  \\\n",
      "Actual                                                                         \n",
      "functional                     8992                       64             609   \n",
      "functional needs repair         984                      151             173   \n",
      "non functional                 2304                       33            4510   \n",
      "All                           12280                      248            5292   \n",
      "\n",
      "Predicted                  All  \n",
      "Actual                          \n",
      "functional                9665  \n",
      "functional needs repair   1308  \n",
      "non functional            6847  \n",
      "All                      17820  \n"
     ]
    }
   ],
   "source": [
    "modelName = \"RandomForestClassifier\"\n",
    "rfc = loadModel(modelName)\n",
    "if(rfc == None):\n",
    "    rfc = RandomForestClassifier(n_estimators=500,max_depth=15,random_state=rand_num)\n",
    "    predictModelMetrics(rfc,modelName)\n",
    "    saveModel(rfc,modelName)"
   ]
  },
  {
   "cell_type": "code",
   "execution_count": 63,
   "metadata": {
    "ExecuteTime": {
     "end_time": "2018-12-13T10:57:48.975296Z",
     "start_time": "2018-12-13T10:50:36.768110Z"
    }
   },
   "outputs": [
    {
     "name": "stdout",
     "output_type": "stream",
     "text": [
      "Train Accuracy: 0.79\n",
      "Cross Validation Accuracy: 0.75\n",
      "-------------------------------------\n",
      "Confusion Matrix:\n",
      "Predicted                functional  functional needs repair  non functional  \\\n",
      "Actual                                                                         \n",
      "functional                     9017                       90             558   \n",
      "functional needs repair         954                      195             159   \n",
      "non functional                 2411                       61            4375   \n",
      "All                           12382                      346            5092   \n",
      "\n",
      "Predicted                  All  \n",
      "Actual                          \n",
      "functional                9665  \n",
      "functional needs repair   1308  \n",
      "non functional            6847  \n",
      "All                      17820  \n"
     ]
    }
   ],
   "source": [
    "modelName = \"XGBoost_Classifier\"\n",
    "xgbc = loadModel(modelName)\n",
    "if(xgbc == None):\n",
    "    xgbc = XGBClassifier(max_depth=10,learning_rate= 0.01,n_estimators= 300,random_state=rand_num)\n",
    "    predictModelMetrics(xgbc,modelName)\n",
    "    saveModel(xgbc,modelName)"
   ]
  },
  {
   "cell_type": "code",
   "execution_count": 64,
   "metadata": {
    "ExecuteTime": {
     "end_time": "2018-12-13T10:57:52.043271Z",
     "start_time": "2018-12-13T10:57:50.305610Z"
    }
   },
   "outputs": [],
   "source": [
    "test_preds = rfc.predict(test)"
   ]
  },
  {
   "cell_type": "code",
   "execution_count": 65,
   "metadata": {
    "ExecuteTime": {
     "end_time": "2018-12-13T10:57:53.374228Z",
     "start_time": "2018-12-13T10:57:53.368942Z"
    }
   },
   "outputs": [],
   "source": [
    "result = pd.DataFrame({'id':test_id,'status_group':test_preds})"
   ]
  },
  {
   "cell_type": "code",
   "execution_count": 66,
   "metadata": {
    "ExecuteTime": {
     "end_time": "2018-12-13T10:57:55.548558Z",
     "start_time": "2018-12-13T10:57:54.906306Z"
    }
   },
   "outputs": [],
   "source": [
    "result.to_csv(results_path + \"Submission.csv\",index=False)"
   ]
  }
 ],
 "metadata": {
  "kernelspec": {
   "display_name": "Python 3",
   "language": "python",
   "name": "python3"
  },
  "language_info": {
   "codemirror_mode": {
    "name": "ipython",
    "version": 3
   },
   "file_extension": ".py",
   "mimetype": "text/x-python",
   "name": "python",
   "nbconvert_exporter": "python",
   "pygments_lexer": "ipython3",
   "version": "3.6.4"
  },
  "varInspector": {
   "cols": {
    "lenName": 16,
    "lenType": 16,
    "lenVar": 40
   },
   "kernels_config": {
    "python": {
     "delete_cmd_postfix": "",
     "delete_cmd_prefix": "del ",
     "library": "var_list.py",
     "varRefreshCmd": "print(var_dic_list())"
    },
    "r": {
     "delete_cmd_postfix": ") ",
     "delete_cmd_prefix": "rm(",
     "library": "var_list.r",
     "varRefreshCmd": "cat(var_dic_list()) "
    }
   },
   "position": {
    "height": "144px",
    "left": "1003px",
    "right": "20px",
    "top": "117px",
    "width": "350px"
   },
   "types_to_exclude": [
    "module",
    "function",
    "builtin_function_or_method",
    "instance",
    "_Feature"
   ],
   "window_display": false
  }
 },
 "nbformat": 4,
 "nbformat_minor": 2
}
